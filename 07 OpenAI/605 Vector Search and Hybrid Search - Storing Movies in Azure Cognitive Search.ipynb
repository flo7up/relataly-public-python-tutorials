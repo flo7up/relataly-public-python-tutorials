{
 "cells": [
  {
   "cell_type": "markdown",
   "metadata": {},
   "source": [
    "# Step #1 Imports and Connections"
   ]
  },
  {
   "cell_type": "code",
   "execution_count": 55,
   "metadata": {},
   "outputs": [],
   "source": [
    "# preview version - work in progress\n",
    "\n",
    "import openai\n",
    "from azure.core.credentials import AzureKeyCredential\n",
    "from azure.keyvault.secrets import SecretClient\n",
    "from azure.search.documents import SearchClient\n",
    "from azure.search.documents.indexes import SearchIndexClient\n",
    "from azure.search.documents.models import Vector\n",
    "import plotly.express as px\n",
    "from sklearn.decomposition import PCA\n",
    "import pandas as pd\n",
    "from azure.identity import AzureCliCredential\n",
    "import pandas as pd\n",
    "from azure.search.documents.indexes.models import (\n",
    "        SearchIndex,\n",
    "        SearchField,\n",
    "        SearchFieldDataType,\n",
    "        SimpleField,\n",
    "        SearchableField,\n",
    "        VectorSearch,\n",
    "        VectorSearchAlgorithmConfiguration,\n",
    "    )\n",
    "\n",
    "from datasets import load_dataset\n",
    "\n",
    "keyvaultname = 'your keyvault'\n",
    "\n",
    "# keyvault authentication \n",
    "client = SecretClient(f\"https://{keyvaultname}.vault.azure.net/\", AzureCliCredential())\n",
    "\n",
    "# This is set to `azure`\n",
    "openai.api_type = \"azure\"\n",
    "\n",
    "# The API key for your Azure OpenAI resource.\n",
    "openai.api_key = client.get_secret('openai713eastus-api-key').value\n",
    "\n",
    "# The base URL for your Azure OpenAI resource. e.g. \"https://<your resource name>.openai.azure.com\"\n",
    "openai.api_base = client.get_secret('openai713eastus-api-endpoint').value \n",
    "\n",
    "# Currently Chat Completion API have the following versions available: 2023-07-01-preview\n",
    "openai.api_version = \"2023-07-01-preview\"\n",
    "\n",
    "# The Azure Search endpoint for your Azure Search resource.\n",
    "service_endpoint = client.get_secret('azure-search-api-endpoint').value \n",
    "\n",
    "# The name of your Azure Search index.\n",
    "index_name = \"mov-index\"\n",
    "\n",
    "# The API key for your Azure Search resource.\n",
    "key = client.get_secret('azure-search-api-key').value  "
   ]
  },
  {
   "cell_type": "markdown",
   "metadata": {},
   "source": [
    "# Step #2 Load the Data"
   ]
  },
  {
   "cell_type": "code",
   "execution_count": 38,
   "metadata": {},
   "outputs": [
    {
     "data": {
      "text/html": [
       "<div>\n",
       "<style scoped>\n",
       "    .dataframe tbody tr th:only-of-type {\n",
       "        vertical-align: middle;\n",
       "    }\n",
       "\n",
       "    .dataframe tbody tr th {\n",
       "        vertical-align: top;\n",
       "    }\n",
       "\n",
       "    .dataframe thead th {\n",
       "        text-align: right;\n",
       "    }\n",
       "</style>\n",
       "<table border=\"1\" class=\"dataframe\">\n",
       "  <thead>\n",
       "    <tr style=\"text-align: right;\">\n",
       "      <th></th>\n",
       "      <th>Series_Title</th>\n",
       "      <th>Overview</th>\n",
       "      <th>Genre</th>\n",
       "      <th>Director</th>\n",
       "      <th>IMDB_Rating</th>\n",
       "      <th>embedding</th>\n",
       "    </tr>\n",
       "  </thead>\n",
       "  <tbody>\n",
       "    <tr>\n",
       "      <th>0</th>\n",
       "      <td>The Shawshank Redemption</td>\n",
       "      <td>Two imprisoned men bond over a number of years...</td>\n",
       "      <td>Drama</td>\n",
       "      <td>Frank Darabont</td>\n",
       "      <td>9.3</td>\n",
       "      <td>[0.005192748736590147, -0.038253773003816605, ...</td>\n",
       "    </tr>\n",
       "    <tr>\n",
       "      <th>1</th>\n",
       "      <td>The Godfather</td>\n",
       "      <td>An organized crime dynasty's aging patriarch t...</td>\n",
       "      <td>Crime, Drama</td>\n",
       "      <td>Francis Ford Coppola</td>\n",
       "      <td>9.2</td>\n",
       "      <td>[0.0051362221129238605, -0.03805561363697052, ...</td>\n",
       "    </tr>\n",
       "    <tr>\n",
       "      <th>2</th>\n",
       "      <td>The Dark Knight</td>\n",
       "      <td>When the menace known as the Joker wreaks havo...</td>\n",
       "      <td>Action, Crime, Drama</td>\n",
       "      <td>Christopher Nolan</td>\n",
       "      <td>9.0</td>\n",
       "      <td>[-0.0033200737088918686, -0.04070454090833664,...</td>\n",
       "    </tr>\n",
       "    <tr>\n",
       "      <th>3</th>\n",
       "      <td>The Godfather: Part II</td>\n",
       "      <td>The early life and career of Vito Corleone in ...</td>\n",
       "      <td>Crime, Drama</td>\n",
       "      <td>Francis Ford Coppola</td>\n",
       "      <td>9.0</td>\n",
       "      <td>[0.007154673337936401, -0.03457772359251976, 0...</td>\n",
       "    </tr>\n",
       "    <tr>\n",
       "      <th>4</th>\n",
       "      <td>12 Angry Men</td>\n",
       "      <td>A jury holdout attempts to prevent a miscarria...</td>\n",
       "      <td>Crime, Drama</td>\n",
       "      <td>Sidney Lumet</td>\n",
       "      <td>9.0</td>\n",
       "      <td>[-0.00941151287406683, -0.02089163102209568, -...</td>\n",
       "    </tr>\n",
       "    <tr>\n",
       "      <th>...</th>\n",
       "      <td>...</td>\n",
       "      <td>...</td>\n",
       "      <td>...</td>\n",
       "      <td>...</td>\n",
       "      <td>...</td>\n",
       "      <td>...</td>\n",
       "    </tr>\n",
       "    <tr>\n",
       "      <th>95</th>\n",
       "      <td>Amélie</td>\n",
       "      <td>Amélie is an innocent and naive girl in Paris ...</td>\n",
       "      <td>Comedy, Romance</td>\n",
       "      <td>Jean-Pierre Jeunet</td>\n",
       "      <td>8.3</td>\n",
       "      <td>[-0.007555707823485136, -0.02741081640124321, ...</td>\n",
       "    </tr>\n",
       "    <tr>\n",
       "      <th>96</th>\n",
       "      <td>Snatch</td>\n",
       "      <td>Unscrupulous boxing promoters, violent bookmak...</td>\n",
       "      <td>Comedy, Crime</td>\n",
       "      <td>Guy Ritchie</td>\n",
       "      <td>8.3</td>\n",
       "      <td>[-0.019652578979730606, -0.028809500858187675,...</td>\n",
       "    </tr>\n",
       "    <tr>\n",
       "      <th>97</th>\n",
       "      <td>Requiem for a Dream</td>\n",
       "      <td>The drug-induced utopias of four Coney Island ...</td>\n",
       "      <td>Drama</td>\n",
       "      <td>Darren Aronofsky</td>\n",
       "      <td>8.3</td>\n",
       "      <td>[0.00561836501583457, -0.0028779387939721346, ...</td>\n",
       "    </tr>\n",
       "    <tr>\n",
       "      <th>98</th>\n",
       "      <td>American Beauty</td>\n",
       "      <td>A sexually frustrated suburban father has a mi...</td>\n",
       "      <td>Drama</td>\n",
       "      <td>Sam Mendes</td>\n",
       "      <td>8.3</td>\n",
       "      <td>[-0.007404738571494818, -0.012670470401644707,...</td>\n",
       "    </tr>\n",
       "    <tr>\n",
       "      <th>99</th>\n",
       "      <td>Good Will Hunting</td>\n",
       "      <td>Will Hunting, a janitor at M.I.T., has a gift ...</td>\n",
       "      <td>Drama, Romance</td>\n",
       "      <td>Gus Van Sant</td>\n",
       "      <td>8.3</td>\n",
       "      <td>[-0.014342865906655788, -0.007591381669044495,...</td>\n",
       "    </tr>\n",
       "  </tbody>\n",
       "</table>\n",
       "<p>100 rows × 6 columns</p>\n",
       "</div>"
      ],
      "text/plain": [
       "                Series_Title  \\\n",
       "0   The Shawshank Redemption   \n",
       "1              The Godfather   \n",
       "2            The Dark Knight   \n",
       "3     The Godfather: Part II   \n",
       "4               12 Angry Men   \n",
       "..                       ...   \n",
       "95                    Amélie   \n",
       "96                    Snatch   \n",
       "97       Requiem for a Dream   \n",
       "98           American Beauty   \n",
       "99         Good Will Hunting   \n",
       "\n",
       "                                             Overview                 Genre  \\\n",
       "0   Two imprisoned men bond over a number of years...                 Drama   \n",
       "1   An organized crime dynasty's aging patriarch t...          Crime, Drama   \n",
       "2   When the menace known as the Joker wreaks havo...  Action, Crime, Drama   \n",
       "3   The early life and career of Vito Corleone in ...          Crime, Drama   \n",
       "4   A jury holdout attempts to prevent a miscarria...          Crime, Drama   \n",
       "..                                                ...                   ...   \n",
       "95  Amélie is an innocent and naive girl in Paris ...       Comedy, Romance   \n",
       "96  Unscrupulous boxing promoters, violent bookmak...         Comedy, Crime   \n",
       "97  The drug-induced utopias of four Coney Island ...                 Drama   \n",
       "98  A sexually frustrated suburban father has a mi...                 Drama   \n",
       "99  Will Hunting, a janitor at M.I.T., has a gift ...        Drama, Romance   \n",
       "\n",
       "                Director  IMDB_Rating  \\\n",
       "0         Frank Darabont          9.3   \n",
       "1   Francis Ford Coppola          9.2   \n",
       "2      Christopher Nolan          9.0   \n",
       "3   Francis Ford Coppola          9.0   \n",
       "4           Sidney Lumet          9.0   \n",
       "..                   ...          ...   \n",
       "95    Jean-Pierre Jeunet          8.3   \n",
       "96           Guy Ritchie          8.3   \n",
       "97      Darren Aronofsky          8.3   \n",
       "98            Sam Mendes          8.3   \n",
       "99          Gus Van Sant          8.3   \n",
       "\n",
       "                                            embedding  \n",
       "0   [0.005192748736590147, -0.038253773003816605, ...  \n",
       "1   [0.0051362221129238605, -0.03805561363697052, ...  \n",
       "2   [-0.0033200737088918686, -0.04070454090833664,...  \n",
       "3   [0.007154673337936401, -0.03457772359251976, 0...  \n",
       "4   [-0.00941151287406683, -0.02089163102209568, -...  \n",
       "..                                                ...  \n",
       "95  [-0.007555707823485136, -0.02741081640124321, ...  \n",
       "96  [-0.019652578979730606, -0.028809500858187675,...  \n",
       "97  [0.00561836501583457, -0.0028779387939721346, ...  \n",
       "98  [-0.007404738571494818, -0.012670470401644707,...  \n",
       "99  [-0.014342865906655788, -0.007591381669044495,...  \n",
       "\n",
       "[100 rows x 6 columns]"
      ]
     },
     "metadata": {},
     "output_type": "display_data"
    }
   ],
   "source": [
    "# Required Libraries\n",
    "import pandas as pd\n",
    "import openai\n",
    "\n",
    "# Load a sample news dataset from a CSV file\n",
    "# Delimiter is set to '\\t' assuming the CSV is tab-separated\n",
    "df_orig = pd.read_csv(\"../data/movie_recommendations/imdb_top_1000.csv\")\n",
    "# https://www.kaggle.com/datasets/harshitshankhdhar/imdb-dataset-of-top-1000-movies-and-tv-shows\n",
    "\n",
    "# Make a copy of the original DataFrame for processing\n",
    "content_df = df_orig.copy()\n",
    "\n",
    "# Select the first 5 rows for demonstration or testing purposes\n",
    "content_df = content_df.head(100)\n",
    "content_df = content_df[['Series_Title', 'Overview', 'Genre', 'Director', 'IMDB_Rating']]\n",
    "\n",
    "# Function to get embeddings for content using OpenAI's API\n",
    "def get_embeddings(content):\n",
    "    \"\"\"\n",
    "    Fetch embeddings for given content using OpenAI API.\n",
    "    \n",
    "    Parameters:\n",
    "    - content (str): Text content for which embedding is to be fetched.\n",
    "    \n",
    "    Returns:\n",
    "    - list: The embedding for the given content.\n",
    "    \"\"\"\n",
    "    response = openai.Embedding.create(input=content, engine='text-embedding-ada-002')['data'][0]['embedding']\n",
    "    return response\n",
    "\n",
    "# Initialize a new column 'embedding' with empty strings\n",
    "content_df['embedding'] = ''\n",
    "\n",
    "# Iterate through each row in the DataFrame to get embeddings\n",
    "for index, row in content_df.iterrows():\n",
    "    try:\n",
    "        # Fetch embedding for the content in the current row\n",
    "        embedding = get_embeddings(row['Series_Title'] + row['Overview'])\n",
    "        \n",
    "        # Store the embedding in the 'embedding' column of the current row\n",
    "        content_df.at[index, 'embedding'] = embedding\n",
    "    except Exception as err:\n",
    "        # Print the error details if there's an issue fetching the embedding\n",
    "        print(f\"Unexpected error: {err} of type {type(err)}\")\n",
    "\n",
    "# Display the processed DataFrame with embeddings\n",
    "display(content_df)"
   ]
  },
  {
   "cell_type": "markdown",
   "metadata": {},
   "source": [
    "# Step #3 Fill the Database with Content"
   ]
  },
  {
   "cell_type": "code",
   "execution_count": 35,
   "metadata": {},
   "outputs": [
    {
     "data": {
      "text/plain": [
       "'Index already exists'"
      ]
     },
     "metadata": {},
     "output_type": "display_data"
    }
   ],
   "source": [
    "# Defining the vector in azure cognitive search\n",
    "\n",
    "def get_news_index(name: str):\n",
    "    # we are not only storing the vector but also additional fields \n",
    "    fields = [\n",
    "        SimpleField(name=\"id\", type=SearchFieldDataType.String, key=True),\n",
    "        SearchableField(name=\"title\", type=SearchFieldDataType.String, sortable=True, filterable=True),\n",
    "        SearchableField(name=\"director\", type=SearchFieldDataType.String, sortable=True, filterable=True),\n",
    "        SearchableField(name=\"rating\", type=SearchFieldDataType.String, sortable=True, filterable=True),\n",
    "        SearchableField(name=\"overview\", type=SearchFieldDataType.String),\n",
    "        SearchField(\n",
    "            name=\"descriptionVector\",\n",
    "            type=SearchFieldDataType.Collection(SearchFieldDataType.Single),\n",
    "            searchable=True,\n",
    "            vector_search_dimensions=1536,\n",
    "            vector_search_configuration=\"my-vector-config\",\n",
    "        ),\n",
    "        SearchableField(\n",
    "            name=\"genre\", type=SearchFieldDataType.String, sortable=True, filterable=True, facetable=True\n",
    "        ),\n",
    "    ]\n",
    "    vector_search = VectorSearch(\n",
    "        algorithm_configurations=[VectorSearchAlgorithmConfiguration(name=\"my-vector-config\", kind=\"hnsw\")]\n",
    "    )\n",
    "    return SearchIndex(name=name, fields=fields, vector_search=vector_search)\n",
    "\n",
    "credential = AzureKeyCredential(key)\n",
    "index_client = SearchIndexClient(service_endpoint, credential)\n",
    "# Check if the index exists and if not create it\n",
    "try:\n",
    "    index = get_news_index(index_name)\n",
    "    index = index_client.get_index(index.name)\n",
    "    display('Index already exists')\n",
    "except Exception:\n",
    "    index_client.create_index(index)\n",
    "    display('Index created')"
   ]
  },
  {
   "cell_type": "code",
   "execution_count": 54,
   "metadata": {},
   "outputs": [
    {
     "data": {
      "text/plain": [
       "[<azure.search.documents._generated.models._models_py3.IndexingResult at 0x1341b3cfa60>,\n",
       " <azure.search.documents._generated.models._models_py3.IndexingResult at 0x1341b3cf940>,\n",
       " <azure.search.documents._generated.models._models_py3.IndexingResult at 0x1341b3cf7c0>,\n",
       " <azure.search.documents._generated.models._models_py3.IndexingResult at 0x1341b3cff40>,\n",
       " <azure.search.documents._generated.models._models_py3.IndexingResult at 0x1341b3cf040>,\n",
       " <azure.search.documents._generated.models._models_py3.IndexingResult at 0x1341b3cf580>,\n",
       " <azure.search.documents._generated.models._models_py3.IndexingResult at 0x1341b3cf850>,\n",
       " <azure.search.documents._generated.models._models_py3.IndexingResult at 0x1341b3cf280>,\n",
       " <azure.search.documents._generated.models._models_py3.IndexingResult at 0x1341b3cf910>,\n",
       " <azure.search.documents._generated.models._models_py3.IndexingResult at 0x1341b3cf520>,\n",
       " <azure.search.documents._generated.models._models_py3.IndexingResult at 0x1341b3cf2e0>,\n",
       " <azure.search.documents._generated.models._models_py3.IndexingResult at 0x1341b3cfe20>,\n",
       " <azure.search.documents._generated.models._models_py3.IndexingResult at 0x1341b3cfdf0>,\n",
       " <azure.search.documents._generated.models._models_py3.IndexingResult at 0x1341a327b50>,\n",
       " <azure.search.documents._generated.models._models_py3.IndexingResult at 0x1341a327dc0>,\n",
       " <azure.search.documents._generated.models._models_py3.IndexingResult at 0x1341a327a30>,\n",
       " <azure.search.documents._generated.models._models_py3.IndexingResult at 0x1341a327ee0>,\n",
       " <azure.search.documents._generated.models._models_py3.IndexingResult at 0x1341a327820>,\n",
       " <azure.search.documents._generated.models._models_py3.IndexingResult at 0x1341a327eb0>,\n",
       " <azure.search.documents._generated.models._models_py3.IndexingResult at 0x1341a327a00>,\n",
       " <azure.search.documents._generated.models._models_py3.IndexingResult at 0x1341a327ca0>,\n",
       " <azure.search.documents._generated.models._models_py3.IndexingResult at 0x1341a327f10>,\n",
       " <azure.search.documents._generated.models._models_py3.IndexingResult at 0x1341a3277c0>,\n",
       " <azure.search.documents._generated.models._models_py3.IndexingResult at 0x1341a327700>,\n",
       " <azure.search.documents._generated.models._models_py3.IndexingResult at 0x1341a327d90>,\n",
       " <azure.search.documents._generated.models._models_py3.IndexingResult at 0x1341a327580>,\n",
       " <azure.search.documents._generated.models._models_py3.IndexingResult at 0x1341a327850>,\n",
       " <azure.search.documents._generated.models._models_py3.IndexingResult at 0x1341a327df0>,\n",
       " <azure.search.documents._generated.models._models_py3.IndexingResult at 0x1341a327f70>,\n",
       " <azure.search.documents._generated.models._models_py3.IndexingResult at 0x1341a327460>,\n",
       " <azure.search.documents._generated.models._models_py3.IndexingResult at 0x1341a327640>,\n",
       " <azure.search.documents._generated.models._models_py3.IndexingResult at 0x1341a327490>,\n",
       " <azure.search.documents._generated.models._models_py3.IndexingResult at 0x1341a327370>,\n",
       " <azure.search.documents._generated.models._models_py3.IndexingResult at 0x1341a3275e0>,\n",
       " <azure.search.documents._generated.models._models_py3.IndexingResult at 0x1341a327c10>,\n",
       " <azure.search.documents._generated.models._models_py3.IndexingResult at 0x1341a327cd0>,\n",
       " <azure.search.documents._generated.models._models_py3.IndexingResult at 0x1341a327100>,\n",
       " <azure.search.documents._generated.models._models_py3.IndexingResult at 0x1341a327220>,\n",
       " <azure.search.documents._generated.models._models_py3.IndexingResult at 0x1341a3273a0>,\n",
       " <azure.search.documents._generated.models._models_py3.IndexingResult at 0x1341a3272e0>,\n",
       " <azure.search.documents._generated.models._models_py3.IndexingResult at 0x1341a327160>,\n",
       " <azure.search.documents._generated.models._models_py3.IndexingResult at 0x1341a3278b0>,\n",
       " <azure.search.documents._generated.models._models_py3.IndexingResult at 0x1341a327970>,\n",
       " <azure.search.documents._generated.models._models_py3.IndexingResult at 0x1341a327190>,\n",
       " <azure.search.documents._generated.models._models_py3.IndexingResult at 0x1341a327070>,\n",
       " <azure.search.documents._generated.models._models_py3.IndexingResult at 0x1341a327520>,\n",
       " <azure.search.documents._generated.models._models_py3.IndexingResult at 0x1341a3275b0>,\n",
       " <azure.search.documents._generated.models._models_py3.IndexingResult at 0x1341a3270a0>,\n",
       " <azure.search.documents._generated.models._models_py3.IndexingResult at 0x1341a3271f0>,\n",
       " <azure.search.documents._generated.models._models_py3.IndexingResult at 0x1341a3272b0>,\n",
       " <azure.search.documents._generated.models._models_py3.IndexingResult at 0x1341b3d9c10>,\n",
       " <azure.search.documents._generated.models._models_py3.IndexingResult at 0x1341b3d9f10>,\n",
       " <azure.search.documents._generated.models._models_py3.IndexingResult at 0x1341b3d9d90>,\n",
       " <azure.search.documents._generated.models._models_py3.IndexingResult at 0x1341b3d97f0>,\n",
       " <azure.search.documents._generated.models._models_py3.IndexingResult at 0x1341b3d9100>,\n",
       " <azure.search.documents._generated.models._models_py3.IndexingResult at 0x1341b3d9910>,\n",
       " <azure.search.documents._generated.models._models_py3.IndexingResult at 0x1341b3d9fa0>,\n",
       " <azure.search.documents._generated.models._models_py3.IndexingResult at 0x1341b3d9dc0>,\n",
       " <azure.search.documents._generated.models._models_py3.IndexingResult at 0x1341b3d9ac0>,\n",
       " <azure.search.documents._generated.models._models_py3.IndexingResult at 0x1341b3d9d60>,\n",
       " <azure.search.documents._generated.models._models_py3.IndexingResult at 0x1341b3d9fd0>,\n",
       " <azure.search.documents._generated.models._models_py3.IndexingResult at 0x1341a2d4dc0>,\n",
       " <azure.search.documents._generated.models._models_py3.IndexingResult at 0x1341a2d4cd0>,\n",
       " <azure.search.documents._generated.models._models_py3.IndexingResult at 0x1341a2d4fd0>,\n",
       " <azure.search.documents._generated.models._models_py3.IndexingResult at 0x1341a2d4f70>,\n",
       " <azure.search.documents._generated.models._models_py3.IndexingResult at 0x1341a2d4e20>,\n",
       " <azure.search.documents._generated.models._models_py3.IndexingResult at 0x1341a2d4b20>,\n",
       " <azure.search.documents._generated.models._models_py3.IndexingResult at 0x1341a2d4e50>,\n",
       " <azure.search.documents._generated.models._models_py3.IndexingResult at 0x1341a2d4ee0>,\n",
       " <azure.search.documents._generated.models._models_py3.IndexingResult at 0x1341b3cf130>,\n",
       " <azure.search.documents._generated.models._models_py3.IndexingResult at 0x1341a288100>,\n",
       " <azure.search.documents._generated.models._models_py3.IndexingResult at 0x1341a288400>,\n",
       " <azure.search.documents._generated.models._models_py3.IndexingResult at 0x1341a288220>,\n",
       " <azure.search.documents._generated.models._models_py3.IndexingResult at 0x1341a288580>,\n",
       " <azure.search.documents._generated.models._models_py3.IndexingResult at 0x1341a2889a0>,\n",
       " <azure.search.documents._generated.models._models_py3.IndexingResult at 0x1341a288550>,\n",
       " <azure.search.documents._generated.models._models_py3.IndexingResult at 0x1341a288640>,\n",
       " <azure.search.documents._generated.models._models_py3.IndexingResult at 0x1341a288160>,\n",
       " <azure.search.documents._generated.models._models_py3.IndexingResult at 0x1341a2886d0>,\n",
       " <azure.search.documents._generated.models._models_py3.IndexingResult at 0x1341a288370>,\n",
       " <azure.search.documents._generated.models._models_py3.IndexingResult at 0x1341a32d3a0>,\n",
       " <azure.search.documents._generated.models._models_py3.IndexingResult at 0x1341a288700>,\n",
       " <azure.search.documents._generated.models._models_py3.IndexingResult at 0x1341a2885b0>,\n",
       " <azure.search.documents._generated.models._models_py3.IndexingResult at 0x1341a288670>,\n",
       " <azure.search.documents._generated.models._models_py3.IndexingResult at 0x1341a2887f0>,\n",
       " <azure.search.documents._generated.models._models_py3.IndexingResult at 0x1341a288460>,\n",
       " <azure.search.documents._generated.models._models_py3.IndexingResult at 0x1341a288310>,\n",
       " <azure.search.documents._generated.models._models_py3.IndexingResult at 0x1341a31dee0>,\n",
       " <azure.search.documents._generated.models._models_py3.IndexingResult at 0x1341a31da90>,\n",
       " <azure.search.documents._generated.models._models_py3.IndexingResult at 0x1341a31dd30>,\n",
       " <azure.search.documents._generated.models._models_py3.IndexingResult at 0x1341a31da60>,\n",
       " <azure.search.documents._generated.models._models_py3.IndexingResult at 0x1341a31dc40>,\n",
       " <azure.search.documents._generated.models._models_py3.IndexingResult at 0x1341a31df70>,\n",
       " <azure.search.documents._generated.models._models_py3.IndexingResult at 0x1341a31d970>,\n",
       " <azure.search.documents._generated.models._models_py3.IndexingResult at 0x1341a31dfd0>,\n",
       " <azure.search.documents._generated.models._models_py3.IndexingResult at 0x1341a31d820>,\n",
       " <azure.search.documents._generated.models._models_py3.IndexingResult at 0x1341a31db20>,\n",
       " <azure.search.documents._generated.models._models_py3.IndexingResult at 0x1341a31ddc0>,\n",
       " <azure.search.documents._generated.models._models_py3.IndexingResult at 0x1341a31d6a0>,\n",
       " <azure.search.documents._generated.models._models_py3.IndexingResult at 0x1341a31d8e0>]"
      ]
     },
     "execution_count": 54,
     "metadata": {},
     "output_type": "execute_result"
    }
   ],
   "source": [
    "# Uploading the content to Azure Cognitive Search\n",
    "def get_news_documents(df):\n",
    "    \n",
    "    docs = []\n",
    "\n",
    "    for index, row in df.iterrows():\n",
    "        docs.append({\n",
    "            \"id\": str(index),\n",
    "            \"title\": row['Series_Title'],\n",
    "            \"genre\": row['Genre'],\n",
    "            \"rating\": str(row['IMDB_Rating']),\n",
    "            \"director\": row['Director'],\n",
    "            \"overview\": row['Overview'],\n",
    "            \"descriptionVector\": row['embedding']\n",
    "        })\n",
    "    return docs\n",
    "\n",
    "docs = get_news_documents(content_df)\n",
    "client = SearchClient(service_endpoint, index_name, credential)\n",
    "client.upload_documents(documents=docs)\n"
   ]
  },
  {
   "cell_type": "markdown",
   "metadata": {},
   "source": [
    "# Step #5 Visuzalizing the data"
   ]
  },
  {
   "cell_type": "code",
   "execution_count": 47,
   "metadata": {},
   "outputs": [
    {
     "data": {
      "text/html": [
       "<div>\n",
       "<style scoped>\n",
       "    .dataframe tbody tr th:only-of-type {\n",
       "        vertical-align: middle;\n",
       "    }\n",
       "\n",
       "    .dataframe tbody tr th {\n",
       "        vertical-align: top;\n",
       "    }\n",
       "\n",
       "    .dataframe thead th {\n",
       "        text-align: right;\n",
       "    }\n",
       "</style>\n",
       "<table border=\"1\" class=\"dataframe\">\n",
       "  <thead>\n",
       "    <tr style=\"text-align: right;\">\n",
       "      <th></th>\n",
       "      <th>title</th>\n",
       "      <th>id</th>\n",
       "      <th>score</th>\n",
       "      <th>rating</th>\n",
       "      <th>genre</th>\n",
       "      <th>overview</th>\n",
       "      <th>director</th>\n",
       "      <th>embedding</th>\n",
       "    </tr>\n",
       "  </thead>\n",
       "  <tbody>\n",
       "    <tr>\n",
       "      <th>0</th>\n",
       "      <td>The Shawshank Redemption</td>\n",
       "      <td>0</td>\n",
       "      <td>1.0</td>\n",
       "      <td>9.3</td>\n",
       "      <td>Drama</td>\n",
       "      <td>Two imprisoned men bond over a number of years...</td>\n",
       "      <td>Frank Darabont</td>\n",
       "      <td>[0.0051927487, -0.038253773, 0.012054708, -0.0...</td>\n",
       "    </tr>\n",
       "    <tr>\n",
       "      <th>1</th>\n",
       "      <td>Soorarai Pottru</td>\n",
       "      <td>20</td>\n",
       "      <td>1.0</td>\n",
       "      <td>8.6</td>\n",
       "      <td>Drama</td>\n",
       "      <td>Nedumaaran Rajangam \"Maara\" sets out to make t...</td>\n",
       "      <td>Sudha Kongara</td>\n",
       "      <td>[-0.0044106543, -0.039114844, 0.0010093993, -0...</td>\n",
       "    </tr>\n",
       "    <tr>\n",
       "      <th>2</th>\n",
       "      <td>Shichinin no samurai</td>\n",
       "      <td>31</td>\n",
       "      <td>1.0</td>\n",
       "      <td>8.6</td>\n",
       "      <td>Action, Adventure, Drama</td>\n",
       "      <td>A poor village under attack by bandits recruit...</td>\n",
       "      <td>Akira Kurosawa</td>\n",
       "      <td>[-0.012948995, -0.024345139, -0.02152177, 0.00...</td>\n",
       "    </tr>\n",
       "    <tr>\n",
       "      <th>3</th>\n",
       "      <td>Nuovo Cinema Paradiso</td>\n",
       "      <td>45</td>\n",
       "      <td>1.0</td>\n",
       "      <td>8.5</td>\n",
       "      <td>Drama, Romance</td>\n",
       "      <td>A filmmaker recalls his childhood when falling...</td>\n",
       "      <td>Giuseppe Tornatore</td>\n",
       "      <td>[0.0069512404, -0.00813443, 0.0044048103, -0.0...</td>\n",
       "    </tr>\n",
       "    <tr>\n",
       "      <th>4</th>\n",
       "      <td>Avengers: Infinity War</td>\n",
       "      <td>60</td>\n",
       "      <td>1.0</td>\n",
       "      <td>8.4</td>\n",
       "      <td>Action, Adventure, Sci-Fi</td>\n",
       "      <td>The Avengers and their allies must be willing ...</td>\n",
       "      <td>Anthony Russo</td>\n",
       "      <td>[-0.02783558, -0.04945764, 0.0030488227, -0.02...</td>\n",
       "    </tr>\n",
       "  </tbody>\n",
       "</table>\n",
       "</div>"
      ],
      "text/plain": [
       "                      title  id  score rating                      genre  \\\n",
       "0  The Shawshank Redemption   0    1.0    9.3                      Drama   \n",
       "1           Soorarai Pottru  20    1.0    8.6                      Drama   \n",
       "2      Shichinin no samurai  31    1.0    8.6   Action, Adventure, Drama   \n",
       "3     Nuovo Cinema Paradiso  45    1.0    8.5             Drama, Romance   \n",
       "4    Avengers: Infinity War  60    1.0    8.4  Action, Adventure, Sci-Fi   \n",
       "\n",
       "                                            overview            director  \\\n",
       "0  Two imprisoned men bond over a number of years...      Frank Darabont   \n",
       "1  Nedumaaran Rajangam \"Maara\" sets out to make t...       Sudha Kongara   \n",
       "2  A poor village under attack by bandits recruit...      Akira Kurosawa   \n",
       "3  A filmmaker recalls his childhood when falling...  Giuseppe Tornatore   \n",
       "4  The Avengers and their allies must be willing ...       Anthony Russo   \n",
       "\n",
       "                                           embedding  \n",
       "0  [0.0051927487, -0.038253773, 0.012054708, -0.0...  \n",
       "1  [-0.0044106543, -0.039114844, 0.0010093993, -0...  \n",
       "2  [-0.012948995, -0.024345139, -0.02152177, 0.00...  \n",
       "3  [0.0069512404, -0.00813443, 0.0044048103, -0.0...  \n",
       "4  [-0.02783558, -0.04945764, 0.0030488227, -0.02...  "
      ]
     },
     "execution_count": 47,
     "metadata": {},
     "output_type": "execute_result"
    }
   ],
   "source": [
    "# get all content from azure cognitive search\n",
    "search_client = SearchClient(service_endpoint, index_name, AzureKeyCredential(key))\n",
    "\n",
    "results = search_client.search(\n",
    "    search_text=None,\n",
    "    select=[\"id\", \"title\", \"overview\", \"genre\", \"descriptionVector\", \"director\", \"rating\"]\n",
    ")\n",
    "\n",
    "df = pd.DataFrame(columns=['id', 'title', 'genre', 'overview', 'director', 'rating', 'embedding'])\n",
    "\n",
    "data_list = []\n",
    "\n",
    "for result in results:\n",
    "    data_list.append({\n",
    "        'title': result['title'],\n",
    "        'id': result['id'],\n",
    "        'score': result['@search.score'],\n",
    "        'rating': result['rating'],\n",
    "        'genre': result['genre'],\n",
    "        'overview': result['overview'],\n",
    "        'director': result['director'],\n",
    "        'embedding': result['descriptionVector']\n",
    "    })\n",
    "\n",
    "df_data = pd.DataFrame(data_list)\n",
    "df_data.head(5)"
   ]
  },
  {
   "cell_type": "code",
   "execution_count": 57,
   "metadata": {},
   "outputs": [
    {
     "data": {
      "application/vnd.plotly.v1+json": {
       "config": {
        "plotlyServerURL": "https://plot.ly"
       },
       "data": [
        {
         "customdata": [
          [
           "The Shawshank Redemption",
           "Drama",
           "Frank Darabont",
           "Two imprisoned men bond over a number of years, finding solace and eventual redemption through acts of common decency."
          ],
          [
           "Soorarai Pottru",
           "Drama",
           "Sudha Kongara",
           "Nedumaaran Rajangam \"Maara\" sets out to make the common man fly and in the process takes on the world's most capital intensive industry and several enemies who stand in his way."
          ],
          [
           "Fight Club",
           "Drama",
           "David Fincher",
           "An insomniac office worker and a devil-may-care soapmaker form an underground fight club that evolves into something much, much more."
          ],
          [
           "Requiem for a Dream",
           "Drama",
           "Darren Aronofsky",
           "The drug-induced utopias of four Coney Island people are shattered when their addictions run deep."
          ],
          [
           "One Flew Over the Cuckoo's Nest",
           "Drama",
           "Milos Forman",
           "A criminal pleads insanity and is admitted to a mental institution, where he rebels against the oppressive nurse and rallies up the scared patients."
          ],
          [
           "Miracle in cell NO.7",
           "Drama",
           "Mehmet Ada Öztekin",
           "A story of love between a mentally-ill father who was wrongly accused of murder and his lovely six years old daughter. The prison would be their home. Based on the 2013 Korean movie 7-beon-bang-ui seon-mul (2013)."
          ],
          [
           "Jodaeiye Nader az Simin",
           "Drama",
           "Asghar Farhadi",
           "A married couple are faced with a difficult decision - to improve the life of their child by moving to another country or to stay in Iran and look after a deteriorating parent who has Alzheimer's disease."
          ],
          [
           "American History X",
           "Drama",
           "Tony Kaye",
           "A former neo-nazi skinhead tries to prevent his younger brother from going down the same wrong path that he did."
          ],
          [
           "Capharnaüm",
           "Drama",
           "Nadine Labaki",
           "While serving a five-year sentence for a violent crime, a 12-year-old boy sues his parents for neglect."
          ],
          [
           "American Beauty",
           "Drama",
           "Sam Mendes",
           "A sexually frustrated suburban father has a mid-life crisis after becoming infatuated with his daughter's best friend."
          ],
          [
           "Jagten",
           "Drama",
           "Thomas Vinterberg",
           "A teacher lives a lonely life, all the while struggling over his son's custody. His life slowly gets better as he finds love and receives good news from his son, but his new luck is about to be brutally shattered by an innocent little lie."
          ]
         ],
         "hovertemplate": "genre=%{customdata[1]}<br>x=%{x}<br>y=%{y}<br>title=%{customdata[0]}<br>director=%{customdata[2]}<br>overview=%{customdata[3]}<extra></extra>",
         "legendgroup": "Drama",
         "marker": {
          "color": "#636efa",
          "symbol": "circle"
         },
         "mode": "markers",
         "name": "Drama",
         "orientation": "v",
         "showlegend": true,
         "type": "scatter",
         "x": [
          -0.018023478579507524,
          0.06742172630165451,
          -0.0257840881220956,
          -0.05837848808780913,
          -0.03201287501547562,
          -0.15483814095746495,
          -0.12860250268253123,
          -0.07915360057359729,
          -0.1322952768417734,
          -0.1329160898086494,
          -0.1371377823276212
         ],
         "xaxis": "x",
         "y": [
          -0.07265502816245371,
          0.09749074856973934,
          -0.08502024018642751,
          -0.09890888269438437,
          -0.05474425409890275,
          0.09478343243547303,
          0.16117927392977618,
          -0.06462715921140315,
          0.12047936066457758,
          -0.0773184683168141,
          0.06306288297514549
         ],
         "yaxis": "y"
        },
        {
         "customdata": [
          [
           "Shichinin no samurai",
           "Action, Adventure, Drama",
           "Akira Kurosawa",
           "A poor village under attack by bandits recruits seven unemployed samurai to help them defend themselves."
          ],
          [
           "Gladiator",
           "Action, Adventure, Drama",
           "Ridley Scott",
           "A former Roman General sets out to exact vengeance against the corrupt emperor who murdered his family and sent him into slavery."
          ],
          [
           "The Lord of the Rings: The Return of the King",
           "Action, Adventure, Drama",
           "Peter Jackson",
           "Gandalf and Aragorn lead the World of Men against Sauron's army to draw his gaze from Frodo and Sam as they approach Mount Doom with the One Ring."
          ],
          [
           "Avengers: Endgame",
           "Action, Adventure, Drama",
           "Anthony Russo",
           "After the devastating events of Avengers: Infinity War (2018), the universe is in ruins. With the help of remaining allies, the Avengers assemble once more in order to reverse Thanos' actions and restore balance to the universe."
          ],
          [
           "The Lord of the Rings: The Two Towers",
           "Action, Adventure, Drama",
           "Peter Jackson",
           "While Frodo and Sam edge closer to Mordor with the help of the shifty Gollum, the divided fellowship makes a stand against Sauron's new ally, Saruman, and his hordes of Isengard."
          ],
          [
           "The Lord of the Rings: The Fellowship of the Ring",
           "Action, Adventure, Drama",
           "Peter Jackson",
           "A meek Hobbit from the Shire and eight companions set out on a journey to destroy the powerful One Ring and save Middle-earth from the Dark Lord Sauron."
          ]
         ],
         "hovertemplate": "genre=%{customdata[1]}<br>x=%{x}<br>y=%{y}<br>title=%{customdata[0]}<br>director=%{customdata[2]}<br>overview=%{customdata[3]}<extra></extra>",
         "legendgroup": "Action, Adventure, Drama",
         "marker": {
          "color": "#EF553B",
          "symbol": "circle"
         },
         "mode": "markers",
         "name": "Action, Adventure, Drama",
         "orientation": "v",
         "showlegend": true,
         "type": "scatter",
         "x": [
          0.03353315181831258,
          0.0667642967848389,
          0.2916700454060445,
          0.2764612287280788,
          0.2554041351756385,
          0.2708209471657782
         ],
         "xaxis": "x",
         "y": [
          0.15494754414315,
          0.0014599106498777601,
          0.010568492734772504,
          0.016094990622376702,
          0.012673468281744473,
          -0.007393724862889419
         ],
         "yaxis": "y"
        },
        {
         "customdata": [
          [
           "Nuovo Cinema Paradiso",
           "Drama, Romance",
           "Giuseppe Tornatore",
           "A filmmaker recalls his childhood when falling in love with the pictures at the cinema of his home village and forms a deep friendship with the cinema's projectionist."
          ],
          [
           "Forrest Gump",
           "Drama, Romance",
           "Robert Zemeckis",
           "The presidencies of Kennedy and Johnson, the events of Vietnam, Watergate and other historical events unfold through the perspective of an Alabama man with an IQ of 75, whose only desire is to be reunited with his childhood sweetheart."
          ],
          [
           "Good Will Hunting",
           "Drama, Romance",
           "Gus Van Sant",
           "Will Hunting, a janitor at M.I.T., has a gift for mathematics, but needs help from a psychologist to find direction in his life."
          ]
         ],
         "hovertemplate": "genre=%{customdata[1]}<br>x=%{x}<br>y=%{y}<br>title=%{customdata[0]}<br>director=%{customdata[2]}<br>overview=%{customdata[3]}<extra></extra>",
         "legendgroup": "Drama, Romance",
         "marker": {
          "color": "#00cc96",
          "symbol": "circle"
         },
         "mode": "markers",
         "name": "Drama, Romance",
         "orientation": "v",
         "showlegend": true,
         "type": "scatter",
         "x": [
          -0.1085377551857353,
          0.01252655931385544,
          -0.06639265163710421
         ],
         "xaxis": "x",
         "y": [
          -0.02746319015014413,
          -0.0944975384344625,
          -0.1023362838974455
         ],
         "yaxis": "y"
        },
        {
         "customdata": [
          [
           "Avengers: Infinity War",
           "Action, Adventure, Sci-Fi",
           "Anthony Russo",
           "The Avengers and their allies must be willing to sacrifice all in an attempt to defeat the powerful Thanos before his blitz of devastation and ruin puts an end to the universe."
          ],
          [
           "Inception",
           "Action, Adventure, Sci-Fi",
           "Christopher Nolan",
           "A thief who steals corporate secrets through the use of dream-sharing technology is given the inverse task of planting an idea into the mind of a C.E.O."
          ]
         ],
         "hovertemplate": "genre=%{customdata[1]}<br>x=%{x}<br>y=%{y}<br>title=%{customdata[0]}<br>director=%{customdata[2]}<br>overview=%{customdata[3]}<extra></extra>",
         "legendgroup": "Action, Adventure, Sci-Fi",
         "marker": {
          "color": "#ab63fa",
          "symbol": "circle"
         },
         "mode": "markers",
         "name": "Action, Adventure, Sci-Fi",
         "orientation": "v",
         "showlegend": true,
         "type": "scatter",
         "x": [
          0.26847212593668235,
          0.00876743961593749
         ],
         "xaxis": "x",
         "y": [
          0.009406437609199013,
          -0.07448911307969999
         ],
         "yaxis": "y"
        },
        {
         "customdata": [
          [
           "Raiders of the Lost Ark",
           "Action, Adventure",
           "Steven Spielberg",
           "In 1936, archaeologist and adventurer Indiana Jones is hired by the U.S. government to find the Ark of the Covenant before Adolf Hitler's Nazis can obtain its awesome powers."
          ],
          [
           "The Dark Knight Rises",
           "Action, Adventure",
           "Christopher Nolan",
           "Eight years after the Joker's reign of anarchy, Batman, with the help of the enigmatic Catwoman, is forced from his exile to save Gotham City from the brutal guerrilla terrorist Bane."
          ]
         ],
         "hovertemplate": "genre=%{customdata[1]}<br>x=%{x}<br>y=%{y}<br>title=%{customdata[0]}<br>director=%{customdata[2]}<br>overview=%{customdata[3]}<extra></extra>",
         "legendgroup": "Action, Adventure",
         "marker": {
          "color": "#FFA15A",
          "symbol": "circle"
         },
         "mode": "markers",
         "name": "Action, Adventure",
         "orientation": "v",
         "showlegend": true,
         "type": "scatter",
         "x": [
          0.16739289768301926,
          0.17173764720762774
         ],
         "xaxis": "x",
         "y": [
          -0.04956291742127238,
          -0.07189642940204859
         ],
         "yaxis": "y"
        },
        {
         "customdata": [
          [
           "Tumbbad",
           "Drama, Fantasy, Horror",
           "Rahi Anil Barve",
           "A mythological story about a goddess who created the entire universe. The plot revolves around the consequences when humans build a temple for her first-born."
          ]
         ],
         "hovertemplate": "genre=%{customdata[1]}<br>x=%{x}<br>y=%{y}<br>title=%{customdata[0]}<br>director=%{customdata[2]}<br>overview=%{customdata[3]}<extra></extra>",
         "legendgroup": "Drama, Fantasy, Horror",
         "marker": {
          "color": "#19d3f3",
          "symbol": "circle"
         },
         "mode": "markers",
         "name": "Drama, Fantasy, Horror",
         "orientation": "v",
         "showlegend": true,
         "type": "scatter",
         "x": [
          0.031078258522292877
         ],
         "xaxis": "x",
         "y": [
          0.16941621479182048
         ],
         "yaxis": "y"
        },
        {
         "customdata": [
          [
           "The Godfather: Part II",
           "Crime, Drama",
           "Francis Ford Coppola",
           "The early life and career of Vito Corleone in 1920s New York City is portrayed, while his son, Michael, expands and tightens his grip on the family crime syndicate."
          ],
          [
           "12 Angry Men",
           "Crime, Drama",
           "Sidney Lumet",
           "A jury holdout attempts to prevent a miscarriage of justice by forcing his colleagues to reconsider the evidence."
          ],
          [
           "Once Upon a Time in America",
           "Crime, Drama",
           "Sergio Leone",
           "A former Prohibition-era Jewish gangster returns to the Lower East Side of Manhattan over thirty years later, where he once again must confront the ghosts and regrets of his old life."
          ],
          [
           "Cidade de Deus",
           "Crime, Drama",
           "Fernando Meirelles",
           "In the slums of Rio, two kids' paths diverge as one struggles to become a photographer and the other a kingpin."
          ],
          [
           "Pulp Fiction",
           "Crime, Drama",
           "Quentin Tarantino",
           "The lives of two mob hitmen, a boxer, a gangster and his wife, and a pair of diner bandits intertwine in four tales of violence and redemption."
          ],
          [
           "The Godfather",
           "Crime, Drama",
           "Francis Ford Coppola",
           "An organized crime dynasty's aging patriarch transfers control of his clandestine empire to his reluctant son."
          ]
         ],
         "hovertemplate": "genre=%{customdata[1]}<br>x=%{x}<br>y=%{y}<br>title=%{customdata[0]}<br>director=%{customdata[2]}<br>overview=%{customdata[3]}<extra></extra>",
         "legendgroup": "Crime, Drama",
         "marker": {
          "color": "#FF6692",
          "symbol": "circle"
         },
         "mode": "markers",
         "name": "Crime, Drama",
         "orientation": "v",
         "showlegend": true,
         "type": "scatter",
         "x": [
          -0.0077010018686489295,
          -0.003020091570481509,
          -0.06409463264973368,
          -0.07227738998870321,
          -0.029172546150975028,
          -0.02735570203381577
         ],
         "xaxis": "x",
         "y": [
          -0.09183980941374174,
          -0.09325284225487392,
          -0.14256499544098375,
          -0.0026486981539874783,
          -0.1667226209924015,
          -0.07258855777611752
         ],
         "yaxis": "y"
        },
        {
         "customdata": [
          [
           "Sen to Chihiro no kamikakushi",
           "Animation, Adventure, Family",
           "Hayao Miyazaki",
           "During her family's move to the suburbs, a sullen 10-year-old girl wanders into a world ruled by gods, witches, and spirits, and where humans are changed into beasts."
          ],
          [
           "Coco",
           "Animation, Adventure, Family",
           "Lee Unkrich",
           "Aspiring musician Miguel, confronted with his family's ancestral ban on music, enters the Land of the Dead to find his great-great-grandfather, a legendary singer."
          ],
          [
           "WALL·E",
           "Animation, Adventure, Family",
           "Andrew Stanton",
           "In the distant future, a small waste-collecting robot inadvertently embarks on a space journey that will ultimately decide the fate of mankind."
          ]
         ],
         "hovertemplate": "genre=%{customdata[1]}<br>x=%{x}<br>y=%{y}<br>title=%{customdata[0]}<br>director=%{customdata[2]}<br>overview=%{customdata[3]}<extra></extra>",
         "legendgroup": "Animation, Adventure, Family",
         "marker": {
          "color": "#B6E880",
          "symbol": "circle"
         },
         "mode": "markers",
         "name": "Animation, Adventure, Family",
         "orientation": "v",
         "showlegend": true,
         "type": "scatter",
         "x": [
          -0.04389452244390952,
          -0.04918451570411013,
          0.11988529265679662
         ],
         "xaxis": "x",
         "y": [
          0.23328548438273014,
          0.0606900785080423,
          0.03232348669571646
         ],
         "yaxis": "y"
        },
        {
         "customdata": [
          [
           "Se7en",
           "Crime, Drama, Mystery",
           "David Fincher",
           "Two detectives, a rookie and a veteran, hunt a serial killer who uses the seven deadly sins as his motives."
          ],
          [
           "Tengoku to jigoku",
           "Crime, Drama, Mystery",
           "Akira Kurosawa",
           "An executive of a shoe company becomes a victim of extortion when his chauffeur's son is kidnapped and held for ransom."
          ],
          [
           "Witness for the Prosecution",
           "Crime, Drama, Mystery",
           "Billy Wilder",
           "A veteran British barrister must defend his client in a murder trial that has surprise after surprise."
          ]
         ],
         "hovertemplate": "genre=%{customdata[1]}<br>x=%{x}<br>y=%{y}<br>title=%{customdata[0]}<br>director=%{customdata[2]}<br>overview=%{customdata[3]}<extra></extra>",
         "legendgroup": "Crime, Drama, Mystery",
         "marker": {
          "color": "#FF97FF",
          "symbol": "circle"
         },
         "mode": "markers",
         "name": "Crime, Drama, Mystery",
         "orientation": "v",
         "showlegend": true,
         "type": "scatter",
         "x": [
          -0.01574993405092714,
          -0.07609368400837035,
          -0.028011442994377633
         ],
         "xaxis": "x",
         "y": [
          -0.07872557578950708,
          0.12448919194718709,
          -0.08892039353135503
         ],
         "yaxis": "y"
        },
        {
         "customdata": [
          [
           "Django Unchained",
           "Drama, Western",
           "Quentin Tarantino",
           "With the help of a German bounty hunter, a freed slave sets out to rescue his wife from a brutal Mississippi plantation owner."
          ]
         ],
         "hovertemplate": "genre=%{customdata[1]}<br>x=%{x}<br>y=%{y}<br>title=%{customdata[0]}<br>director=%{customdata[2]}<br>overview=%{customdata[3]}<extra></extra>",
         "legendgroup": "Drama, Western",
         "marker": {
          "color": "#FECB52",
          "symbol": "circle"
         },
         "mode": "markers",
         "name": "Drama, Western",
         "orientation": "v",
         "showlegend": true,
         "type": "scatter",
         "x": [
          0.0067385654006726445
         ],
         "xaxis": "x",
         "y": [
          -0.022900459089887856
         ],
         "yaxis": "y"
        },
        {
         "customdata": [
          [
           "3 Idiots",
           "Comedy, Drama",
           "Rajkumar Hirani",
           "Two friends are searching for their long lost companion. They revisit their college days and recall the memories of their friend who inspired them to think differently, even as the rest of the world called them \"idiots\"."
          ]
         ],
         "hovertemplate": "genre=%{customdata[1]}<br>x=%{x}<br>y=%{y}<br>title=%{customdata[0]}<br>director=%{customdata[2]}<br>overview=%{customdata[3]}<extra></extra>",
         "legendgroup": "Comedy, Drama",
         "marker": {
          "color": "#636efa",
          "symbol": "circle"
         },
         "mode": "markers",
         "name": "Comedy, Drama",
         "orientation": "v",
         "showlegend": true,
         "type": "scatter",
         "x": [
          -0.02118236616305163
         ],
         "xaxis": "x",
         "y": [
          -0.02865609677400655
         ],
         "yaxis": "y"
        },
        {
         "customdata": [
          [
           "Mononoke-hime",
           "Animation, Action, Adventure",
           "Hayao Miyazaki",
           "On a journey to find the cure for a Tatarigami's curse, Ashitaka finds himself in the middle of a war between the forest gods and Tatara, a mining colony. In this quest he also meets San, the Mononoke Hime."
          ],
          [
           "Spider-Man: Into the Spider-Verse",
           "Animation, Action, Adventure",
           "Bob Persichetti",
           "Teen Miles Morales becomes the Spider-Man of his universe, and must join with five spider-powered individuals from other dimensions to stop a threat for all realities."
          ]
         ],
         "hovertemplate": "genre=%{customdata[1]}<br>x=%{x}<br>y=%{y}<br>title=%{customdata[0]}<br>director=%{customdata[2]}<br>overview=%{customdata[3]}<extra></extra>",
         "legendgroup": "Animation, Action, Adventure",
         "marker": {
          "color": "#EF553B",
          "symbol": "circle"
         },
         "mode": "markers",
         "name": "Animation, Action, Adventure",
         "orientation": "v",
         "showlegend": true,
         "type": "scatter",
         "x": [
          0.04180838379516642,
          0.14280130693117926
         ],
         "xaxis": "x",
         "y": [
          0.23033602500598957,
          0.02614397202230177
         ],
         "yaxis": "y"
        },
        {
         "customdata": [
          [
           "Drishyam",
           "Crime, Drama, Thriller",
           "Jeethu Joseph",
           "A man goes to extreme lengths to save his family from punishment after the family commits an accidental crime."
          ],
          [
           "Joker",
           "Crime, Drama, Thriller",
           "Todd Phillips",
           "In Gotham City, mentally troubled comedian Arthur Fleck is disregarded and mistreated by society. He then embarks on a downward spiral of revolution and bloody crime. This path brings him face-to-face with his alter-ego: the Joker."
          ],
          [
           "The Departed",
           "Crime, Drama, Thriller",
           "Martin Scorsese",
           "An undercover cop and a mole in the police attempt to identify each other while infiltrating an Irish gang in South Boston."
          ],
          [
           "The Silence of the Lambs",
           "Crime, Drama, Thriller",
           "Jonathan Demme",
           "A young F.B.I. cadet must receive the help of an incarcerated and manipulative cannibal killer to help catch another serial killer, a madman who skins his victims."
          ]
         ],
         "hovertemplate": "genre=%{customdata[1]}<br>x=%{x}<br>y=%{y}<br>title=%{customdata[0]}<br>director=%{customdata[2]}<br>overview=%{customdata[3]}<extra></extra>",
         "legendgroup": "Crime, Drama, Thriller",
         "marker": {
          "color": "#00cc96",
          "symbol": "circle"
         },
         "mode": "markers",
         "name": "Crime, Drama, Thriller",
         "orientation": "v",
         "showlegend": true,
         "type": "scatter",
         "x": [
          -0.06614768271062749,
          0.056201624175457515,
          -0.03349807008860626,
          -0.05204223329588749
         ],
         "xaxis": "x",
         "y": [
          0.09805566404403968,
          -0.07435805774160477,
          -0.17638304630255303,
          -0.09996463670612331
         ],
         "yaxis": "y"
        },
        {
         "customdata": [
          [
           "The Dark Knight",
           "Action, Crime, Drama",
           "Christopher Nolan",
           "When the menace known as the Joker wreaks havoc and chaos on the people of Gotham, Batman must accept one of the greatest psychological and physical tests of his ability to fight injustice."
          ],
          [
           "Léon",
           "Action, Crime, Drama",
           "Luc Besson",
           "Mathilda, a 12-year-old girl, is reluctantly taken in by Léon, a professional assassin, after her family is murdered. An unusual relationship forms as she becomes his protégée and learns the assassin's trade."
          ],
          [
           "Vikram Vedha",
           "Action, Crime, Drama",
           "Gayatri",
           "Vikram, a no-nonsense police officer, accompanied by Simon, his partner, is on the hunt to capture Vedha, a smuggler and a murderer. Vedha tries to change Vikram's life, which leads to a conflict."
          ]
         ],
         "hovertemplate": "genre=%{customdata[1]}<br>x=%{x}<br>y=%{y}<br>title=%{customdata[0]}<br>director=%{customdata[2]}<br>overview=%{customdata[3]}<extra></extra>",
         "legendgroup": "Action, Crime, Drama",
         "marker": {
          "color": "#ab63fa",
          "symbol": "circle"
         },
         "mode": "markers",
         "name": "Action, Crime, Drama",
         "orientation": "v",
         "showlegend": true,
         "type": "scatter",
         "x": [
          0.1436326571489364,
          -0.06207293841005346,
          -0.01699317507736087
         ],
         "xaxis": "x",
         "y": [
          -0.10305141596751781,
          0.07229503689848503,
          0.03518902260225374
         ],
         "yaxis": "y"
        },
        {
         "customdata": [
          [
           "Hamilton",
           "Biography, Drama, History",
           "Thomas Kail",
           "The real life of one of America's foremost founding fathers and first Secretary of the Treasury, Alexander Hamilton. Captured live on Broadway from the Richard Rodgers Theater with the original Broadway cast."
          ],
          [
           "Ayla: The Daughter of War",
           "Biography, Drama, History",
           "Can Ulkay",
           "In 1950, amid-st the ravages of the Korean War, Sergeant Süleyman stumbles upon a half-frozen little girl, with no parents and no help in sight. Frantic, scared and on the verge of death, ...                See full summary »"
          ],
          [
           "Schindler's List",
           "Biography, Drama, History",
           "Steven Spielberg",
           "In German-occupied Poland during World War II, industrialist Oskar Schindler gradually becomes concerned for his Jewish workforce after witnessing their persecution by the Nazis."
          ]
         ],
         "hovertemplate": "genre=%{customdata[1]}<br>x=%{x}<br>y=%{y}<br>title=%{customdata[0]}<br>director=%{customdata[2]}<br>overview=%{customdata[3]}<extra></extra>",
         "legendgroup": "Biography, Drama, History",
         "marker": {
          "color": "#FFA15A",
          "symbol": "circle"
         },
         "mode": "markers",
         "name": "Biography, Drama, History",
         "orientation": "v",
         "showlegend": true,
         "type": "scatter",
         "x": [
          0.020395966564804826,
          -0.006211393377597043,
          -0.007792197122379232
         ],
         "xaxis": "x",
         "y": [
          -0.04789095322710426,
          0.19609946432518877,
          -0.0023354449558044667
         ],
         "yaxis": "y"
        },
        {
         "customdata": [
          [
           "Interstellar",
           "Adventure, Drama, Sci-Fi",
           "Christopher Nolan",
           "A team of explorers travel through a wormhole in space in an attempt to ensure humanity's survival."
          ]
         ],
         "hovertemplate": "genre=%{customdata[1]}<br>x=%{x}<br>y=%{y}<br>title=%{customdata[0]}<br>director=%{customdata[2]}<br>overview=%{customdata[3]}<extra></extra>",
         "legendgroup": "Adventure, Drama, Sci-Fi",
         "marker": {
          "color": "#19d3f3",
          "symbol": "circle"
         },
         "mode": "markers",
         "name": "Adventure, Drama, Sci-Fi",
         "orientation": "v",
         "showlegend": true,
         "type": "scatter",
         "x": [
          0.17048427845166877
         ],
         "xaxis": "x",
         "y": [
          0.025973429130931383
         ],
         "yaxis": "y"
        },
        {
         "customdata": [
          [
           "Saving Private Ryan",
           "Drama, War",
           "Steven Spielberg",
           "Following the Normandy Landings, a group of U.S. soldiers go behind enemy lines to retrieve a paratrooper whose brothers have been killed in action."
          ],
          [
           "Paths of Glory",
           "Drama, War",
           "Stanley Kubrick",
           "After refusing to attack an enemy position, a general accuses the soldiers of cowardice and their commanding officer must defend them."
          ]
         ],
         "hovertemplate": "genre=%{customdata[1]}<br>x=%{x}<br>y=%{y}<br>title=%{customdata[0]}<br>director=%{customdata[2]}<br>overview=%{customdata[3]}<extra></extra>",
         "legendgroup": "Drama, War",
         "marker": {
          "color": "#FF6692",
          "symbol": "circle"
         },
         "mode": "markers",
         "name": "Drama, War",
         "orientation": "v",
         "showlegend": true,
         "type": "scatter",
         "x": [
          0.07554569695428232,
          0.08241106922308986
         ],
         "xaxis": "x",
         "y": [
          -0.06152745091530647,
          -0.007200671016807581
         ],
         "yaxis": "y"
        },
        {
         "customdata": [
          [
           "The Prestige",
           "Drama, Mystery, Sci-Fi",
           "Christopher Nolan",
           "After a tragic accident, two stage magicians engage in a battle to create the ultimate illusion while sacrificing everything they have to outwit each other."
          ]
         ],
         "hovertemplate": "genre=%{customdata[1]}<br>x=%{x}<br>y=%{y}<br>title=%{customdata[0]}<br>director=%{customdata[2]}<br>overview=%{customdata[3]}<extra></extra>",
         "legendgroup": "Drama, Mystery, Sci-Fi",
         "marker": {
          "color": "#B6E880",
          "symbol": "circle"
         },
         "mode": "markers",
         "name": "Drama, Mystery, Sci-Fi",
         "orientation": "v",
         "showlegend": true,
         "type": "scatter",
         "x": [
          0.04275556911022813
         ],
         "xaxis": "x",
         "y": [
          -0.07680076737350844
         ],
         "yaxis": "y"
        },
        {
         "customdata": [
          [
           "Anand",
           "Drama, Musical",
           "Hrishikesh Mukherjee",
           "The story of a terminally ill man who wishes to live life to the fullest before the inevitable occurs, as told by his best friend."
          ]
         ],
         "hovertemplate": "genre=%{customdata[1]}<br>x=%{x}<br>y=%{y}<br>title=%{customdata[0]}<br>director=%{customdata[2]}<br>overview=%{customdata[3]}<extra></extra>",
         "legendgroup": "Drama, Musical",
         "marker": {
          "color": "#FF97FF",
          "symbol": "circle"
         },
         "mode": "markers",
         "name": "Drama, Musical",
         "orientation": "v",
         "showlegend": true,
         "type": "scatter",
         "x": [
          -0.06432204006616916
         ],
         "xaxis": "x",
         "y": [
          0.004336480394272666
         ],
         "yaxis": "y"
        },
        {
         "customdata": [
          [
           "Snatch",
           "Comedy, Crime",
           "Guy Ritchie",
           "Unscrupulous boxing promoters, violent bookmakers, a Russian gangster, incompetent amateur robbers and supposedly Jewish jewelers fight to track down a priceless stolen diamond."
          ]
         ],
         "hovertemplate": "genre=%{customdata[1]}<br>x=%{x}<br>y=%{y}<br>title=%{customdata[0]}<br>director=%{customdata[2]}<br>overview=%{customdata[3]}<extra></extra>",
         "legendgroup": "Comedy, Crime",
         "marker": {
          "color": "#FECB52",
          "symbol": "circle"
         },
         "mode": "markers",
         "name": "Comedy, Crime",
         "orientation": "v",
         "showlegend": true,
         "type": "scatter",
         "x": [
          -0.04237538893915239
         ],
         "xaxis": "x",
         "y": [
          -0.08272695298384099
         ],
         "yaxis": "y"
        },
        {
         "customdata": [
          [
           "Seppuku",
           "Action, Drama, Mystery",
           "Masaki Kobayashi",
           "When a ronin requesting seppuku at a feudal lord's palace is told of the brutal suicide of another ronin who previously visited, he reveals how their pasts are intertwined - and in doing so challenges the clan's integrity."
          ],
          [
           "Oldeuboi",
           "Action, Drama, Mystery",
           "Chan-wook Park",
           "After being kidnapped and imprisoned for fifteen years, Oh Dae-Su is released, only to find that he must find his captor in five days."
          ]
         ],
         "hovertemplate": "genre=%{customdata[1]}<br>x=%{x}<br>y=%{y}<br>title=%{customdata[0]}<br>director=%{customdata[2]}<br>overview=%{customdata[3]}<extra></extra>",
         "legendgroup": "Action, Drama, Mystery",
         "marker": {
          "color": "#636efa",
          "symbol": "circle"
         },
         "mode": "markers",
         "name": "Action, Drama, Mystery",
         "orientation": "v",
         "showlegend": true,
         "type": "scatter",
         "x": [
          0.019038431898637336,
          -0.03477249099647078
         ],
         "xaxis": "x",
         "y": [
          0.10482613349785865,
          0.1375017348628269
         ],
         "yaxis": "y"
        },
        {
         "customdata": [
          [
           "Rear Window",
           "Mystery, Thriller",
           "Alfred Hitchcock",
           "A wheelchair-bound photographer spies on his neighbors from his apartment window and becomes convinced one of them has committed murder."
          ],
          [
           "Memento",
           "Mystery, Thriller",
           "Christopher Nolan",
           "A man with short-term memory loss attempts to track down his wife's murderer."
          ]
         ],
         "hovertemplate": "genre=%{customdata[1]}<br>x=%{x}<br>y=%{y}<br>title=%{customdata[0]}<br>director=%{customdata[2]}<br>overview=%{customdata[3]}<extra></extra>",
         "legendgroup": "Mystery, Thriller",
         "marker": {
          "color": "#EF553B",
          "symbol": "circle"
         },
         "mode": "markers",
         "name": "Mystery, Thriller",
         "orientation": "v",
         "showlegend": true,
         "type": "scatter",
         "x": [
          -0.12787891027168433,
          -0.09546758358960142
         ],
         "xaxis": "x",
         "y": [
          -0.13676734987732592,
          -0.09806469346667876
         ],
         "yaxis": "y"
        },
        {
         "customdata": [
          [
           "Inglourious Basterds",
           "Adventure, Drama, War",
           "Quentin Tarantino",
           "In Nazi-occupied France during World War II, a plan to assassinate Nazi leaders by a group of Jewish U.S. soldiers coincides with a theatre owner's vengeful plans for the same."
          ]
         ],
         "hovertemplate": "genre=%{customdata[1]}<br>x=%{x}<br>y=%{y}<br>title=%{customdata[0]}<br>director=%{customdata[2]}<br>overview=%{customdata[3]}<extra></extra>",
         "legendgroup": "Adventure, Drama, War",
         "marker": {
          "color": "#00cc96",
          "symbol": "circle"
         },
         "mode": "markers",
         "name": "Adventure, Drama, War",
         "orientation": "v",
         "showlegend": true,
         "type": "scatter",
         "x": [
          0.0423567585350787
         ],
         "xaxis": "x",
         "y": [
          -0.08250171729118883
         ],
         "yaxis": "y"
        },
        {
         "customdata": [
          [
           "The Green Mile",
           "Crime, Drama, Fantasy",
           "Frank Darabont",
           "The lives of guards on Death Row are affected by one of their charges: a black man accused of child murder and rape, yet who has a mysterious gift."
          ]
         ],
         "hovertemplate": "genre=%{customdata[1]}<br>x=%{x}<br>y=%{y}<br>title=%{customdata[0]}<br>director=%{customdata[2]}<br>overview=%{customdata[3]}<extra></extra>",
         "legendgroup": "Crime, Drama, Fantasy",
         "marker": {
          "color": "#ab63fa",
          "symbol": "circle"
         },
         "mode": "markers",
         "name": "Crime, Drama, Fantasy",
         "orientation": "v",
         "showlegend": true,
         "type": "scatter",
         "x": [
          -0.06985905616916901
         ],
         "xaxis": "x",
         "y": [
          -0.08154489297823825
         ],
         "yaxis": "y"
        },
        {
         "customdata": [
          [
           "The Usual Suspects",
           "Crime, Mystery, Thriller",
           "Bryan Singer",
           "A sole survivor tells of the twisty events leading up to a horrific gun battle on a boat, which began when five criminals met at a seemingly random police lineup."
          ]
         ],
         "hovertemplate": "genre=%{customdata[1]}<br>x=%{x}<br>y=%{y}<br>title=%{customdata[0]}<br>director=%{customdata[2]}<br>overview=%{customdata[3]}<extra></extra>",
         "legendgroup": "Crime, Mystery, Thriller",
         "marker": {
          "color": "#FFA15A",
          "symbol": "circle"
         },
         "mode": "markers",
         "name": "Crime, Mystery, Thriller",
         "orientation": "v",
         "showlegend": true,
         "type": "scatter",
         "x": [
          -0.017188125673511443
         ],
         "xaxis": "x",
         "y": [
          -0.12248750803575466
         ],
         "yaxis": "y"
        },
        {
         "customdata": [
          [
           "Hotaru no haka",
           "Animation, Drama, War",
           "Isao Takahata",
           "A young boy and his little sister struggle to survive in Japan during World War II."
          ]
         ],
         "hovertemplate": "genre=%{customdata[1]}<br>x=%{x}<br>y=%{y}<br>title=%{customdata[0]}<br>director=%{customdata[2]}<br>overview=%{customdata[3]}<extra></extra>",
         "legendgroup": "Animation, Drama, War",
         "marker": {
          "color": "#19d3f3",
          "symbol": "circle"
         },
         "mode": "markers",
         "name": "Animation, Drama, War",
         "orientation": "v",
         "showlegend": true,
         "type": "scatter",
         "x": [
          -0.0015892010909993668
         ],
         "xaxis": "x",
         "y": [
          0.2580600304552936
         ],
         "yaxis": "y"
        },
        {
         "customdata": [
          [
           "City Lights",
           "Comedy, Drama, Romance",
           "Charles Chaplin",
           "With the aid of a wealthy erratic tippler, a dewy-eyed tramp who has fallen in love with a sightless flower girl accumulates money to be able to help her medically."
          ],
          [
           "La vita è bella",
           "Comedy, Drama, Romance",
           "Roberto Benigni",
           "When an open-minded Jewish librarian and his son become victims of the Holocaust, he uses a perfect mixture of will, humor, and imagination to protect his son from the dangers around their camp."
          ]
         ],
         "hovertemplate": "genre=%{customdata[1]}<br>x=%{x}<br>y=%{y}<br>title=%{customdata[0]}<br>director=%{customdata[2]}<br>overview=%{customdata[3]}<extra></extra>",
         "legendgroup": "Comedy, Drama, Romance",
         "marker": {
          "color": "#FF6692",
          "symbol": "circle"
         },
         "mode": "markers",
         "name": "Comedy, Drama, Romance",
         "orientation": "v",
         "showlegend": true,
         "type": "scatter",
         "x": [
          -0.13351604289099447,
          -0.09876260226289969
         ],
         "xaxis": "x",
         "y": [
          -0.024394822972006236,
          0.041636168179887884
         ],
         "yaxis": "y"
        },
        {
         "customdata": [
          [
           "Dangal",
           "Action, Biography, Drama",
           "Nitesh Tiwari",
           "Former wrestler Mahavir Singh Phogat and his two wrestler daughters struggle towards glory at the Commonwealth Games in the face of societal oppression."
          ]
         ],
         "hovertemplate": "genre=%{customdata[1]}<br>x=%{x}<br>y=%{y}<br>title=%{customdata[0]}<br>director=%{customdata[2]}<br>overview=%{customdata[3]}<extra></extra>",
         "legendgroup": "Action, Biography, Drama",
         "marker": {
          "color": "#B6E880",
          "symbol": "circle"
         },
         "mode": "markers",
         "name": "Action, Biography, Drama",
         "orientation": "v",
         "showlegend": true,
         "type": "scatter",
         "x": [
          0.009614861229828235
         ],
         "xaxis": "x",
         "y": [
          0.169646406645241
         ],
         "yaxis": "y"
        },
        {
         "customdata": [
          [
           "Taare Zameen Par",
           "Drama, Family",
           "Aamir Khan",
           "An eight-year-old boy is thought to be a lazy trouble-maker, until the new art teacher has the patience and compassion to discover the real problem behind his struggles in school."
          ],
          [
           "Babam ve Oglum",
           "Drama, Family",
           "Çagan Irmak",
           "The family of a left-wing journalist is torn apart after the military coup of Turkey in 1980."
          ]
         ],
         "hovertemplate": "genre=%{customdata[1]}<br>x=%{x}<br>y=%{y}<br>title=%{customdata[0]}<br>director=%{customdata[2]}<br>overview=%{customdata[3]}<extra></extra>",
         "legendgroup": "Drama, Family",
         "marker": {
          "color": "#FF97FF",
          "symbol": "circle"
         },
         "mode": "markers",
         "name": "Drama, Family",
         "orientation": "v",
         "showlegend": true,
         "type": "scatter",
         "x": [
          -0.11492022190179098,
          -0.08453945850286312
         ],
         "xaxis": "x",
         "y": [
          0.12790151529735427,
          0.12933917372029516
         ],
         "yaxis": "y"
        },
        {
         "customdata": [
          [
           "Alien",
           "Horror, Sci-Fi",
           "Ridley Scott",
           "After a space merchant vessel receives an unknown transmission as a distress call, one of the crew is attacked by a mysterious life form and they soon realize that its life cycle has merely begun."
          ]
         ],
         "hovertemplate": "genre=%{customdata[1]}<br>x=%{x}<br>y=%{y}<br>title=%{customdata[0]}<br>director=%{customdata[2]}<br>overview=%{customdata[3]}<extra></extra>",
         "legendgroup": "Horror, Sci-Fi",
         "marker": {
          "color": "#FECB52",
          "symbol": "circle"
         },
         "mode": "markers",
         "name": "Horror, Sci-Fi",
         "orientation": "v",
         "showlegend": true,
         "type": "scatter",
         "x": [
          0.10906114804322568
         ],
         "xaxis": "x",
         "y": [
          0.03821637797107334
         ],
         "yaxis": "y"
        },
        {
         "customdata": [
          [
           "The Pianist",
           "Biography, Drama, Music",
           "Roman Polanski",
           "A Polish Jewish musician struggles to survive the destruction of the Warsaw ghetto of World War II."
          ]
         ],
         "hovertemplate": "genre=%{customdata[1]}<br>x=%{x}<br>y=%{y}<br>title=%{customdata[0]}<br>director=%{customdata[2]}<br>overview=%{customdata[3]}<extra></extra>",
         "legendgroup": "Biography, Drama, Music",
         "marker": {
          "color": "#636efa",
          "symbol": "circle"
         },
         "mode": "markers",
         "name": "Biography, Drama, Music",
         "orientation": "v",
         "showlegend": true,
         "type": "scatter",
         "x": [
          -0.06932015947517031
         ],
         "xaxis": "x",
         "y": [
          0.0018417011246671512
         ],
         "yaxis": "y"
        },
        {
         "customdata": [
          [
           "Modern Times",
           "Comedy, Drama, Family",
           "Charles Chaplin",
           "The Tramp struggles to live in modern industrial society with the help of a young homeless woman."
          ]
         ],
         "hovertemplate": "genre=%{customdata[1]}<br>x=%{x}<br>y=%{y}<br>title=%{customdata[0]}<br>director=%{customdata[2]}<br>overview=%{customdata[3]}<extra></extra>",
         "legendgroup": "Comedy, Drama, Family",
         "marker": {
          "color": "#EF553B",
          "symbol": "circle"
         },
         "mode": "markers",
         "name": "Comedy, Drama, Family",
         "orientation": "v",
         "showlegend": true,
         "type": "scatter",
         "x": [
          -0.10354164323426156
         ],
         "xaxis": "x",
         "y": [
          0.013901612081367344
         ],
         "yaxis": "y"
        },
        {
         "customdata": [
          [
           "Amélie",
           "Comedy, Romance",
           "Jean-Pierre Jeunet",
           "Amélie is an innocent and naive girl in Paris with her own sense of justice. She decides to help those around her and, along the way, discovers love."
          ]
         ],
         "hovertemplate": "genre=%{customdata[1]}<br>x=%{x}<br>y=%{y}<br>title=%{customdata[0]}<br>director=%{customdata[2]}<br>overview=%{customdata[3]}<extra></extra>",
         "legendgroup": "Comedy, Romance",
         "marker": {
          "color": "#00cc96",
          "symbol": "circle"
         },
         "mode": "markers",
         "name": "Comedy, Romance",
         "orientation": "v",
         "showlegend": true,
         "type": "scatter",
         "x": [
          -0.1160047131057764
         ],
         "xaxis": "x",
         "y": [
          0.03680023554053207
         ],
         "yaxis": "y"
        },
        {
         "customdata": [
          [
           "Goodfellas",
           "Biography, Crime, Drama",
           "Martin Scorsese",
           "The story of Henry Hill and his life in the mob, covering his relationship with his wife Karen Hill and his mob partners Jimmy Conway and Tommy DeVito in the Italian-American crime syndicate."
          ]
         ],
         "hovertemplate": "genre=%{customdata[1]}<br>x=%{x}<br>y=%{y}<br>title=%{customdata[0]}<br>director=%{customdata[2]}<br>overview=%{customdata[3]}<extra></extra>",
         "legendgroup": "Biography, Crime, Drama",
         "marker": {
          "color": "#ab63fa",
          "symbol": "circle"
         },
         "mode": "markers",
         "name": "Biography, Crime, Drama",
         "orientation": "v",
         "showlegend": true,
         "type": "scatter",
         "x": [
          -0.07349896124925451
         ],
         "xaxis": "x",
         "y": [
          -0.16094805311050348
         ],
         "yaxis": "y"
        },
        {
         "customdata": [
          [
           "Star Wars",
           "Action, Adventure, Fantasy",
           "George Lucas",
           "Luke Skywalker joins forces with a Jedi Knight, a cocky pilot, a Wookiee and two droids to save the galaxy from the Empire's world-destroying battle station, while also attempting to rescue Princess Leia from the mysterious Darth Vader."
          ],
          [
           "Star Wars: Episode V - The Empire Strikes Back",
           "Action, Adventure, Fantasy",
           "Irvin Kershner",
           "After the Rebels are brutally overpowered by the Empire on the ice planet Hoth, Luke Skywalker begins Jedi training with Yoda, while his friends are pursued by Darth Vader and a bounty hunter named Boba Fett all over the galaxy."
          ]
         ],
         "hovertemplate": "genre=%{customdata[1]}<br>x=%{x}<br>y=%{y}<br>title=%{customdata[0]}<br>director=%{customdata[2]}<br>overview=%{customdata[3]}<extra></extra>",
         "legendgroup": "Action, Adventure, Fantasy",
         "marker": {
          "color": "#FFA15A",
          "symbol": "circle"
         },
         "mode": "markers",
         "name": "Action, Adventure, Fantasy",
         "orientation": "v",
         "showlegend": true,
         "type": "scatter",
         "x": [
          0.22479328882228095,
          0.24334410941195062
         ],
         "xaxis": "x",
         "y": [
          0.04497413975218571,
          0.02424944937682786
         ],
         "yaxis": "y"
        },
        {
         "customdata": [
          [
           "Kimi no na wa.",
           "Animation, Drama, Fantasy",
           "Makoto Shinkai",
           "Two strangers find themselves linked in a bizarre way. When a connection forms, will distance be the only thing to keep them apart?"
          ]
         ],
         "hovertemplate": "genre=%{customdata[1]}<br>x=%{x}<br>y=%{y}<br>title=%{customdata[0]}<br>director=%{customdata[2]}<br>overview=%{customdata[3]}<extra></extra>",
         "legendgroup": "Animation, Drama, Fantasy",
         "marker": {
          "color": "#19d3f3",
          "symbol": "circle"
         },
         "mode": "markers",
         "name": "Animation, Drama, Fantasy",
         "orientation": "v",
         "showlegend": true,
         "type": "scatter",
         "x": [
          -0.02764965251824922
         ],
         "xaxis": "x",
         "y": [
          0.17552801384475725
         ],
         "yaxis": "y"
        },
        {
         "customdata": [
          [
           "The Lives of Others",
           "Drama, Mystery, Thriller",
           "Florian Henckel von Donnersmarck",
           "In 1984 East Berlin, an agent of the secret police, conducting surveillance on a writer and his lover, finds himself becoming increasingly absorbed by their lives."
          ]
         ],
         "hovertemplate": "genre=%{customdata[1]}<br>x=%{x}<br>y=%{y}<br>title=%{customdata[0]}<br>director=%{customdata[2]}<br>overview=%{customdata[3]}<extra></extra>",
         "legendgroup": "Drama, Mystery, Thriller",
         "marker": {
          "color": "#FF6692",
          "symbol": "circle"
         },
         "mode": "markers",
         "name": "Drama, Mystery, Thriller",
         "orientation": "v",
         "showlegend": true,
         "type": "scatter",
         "x": [
          -0.10959004961956602
         ],
         "xaxis": "x",
         "y": [
          -0.08454727528125519
         ],
         "yaxis": "y"
        },
        {
         "customdata": [
          [
           "1917",
           "Drama, Thriller, War",
           "Sam Mendes",
           "April 6th, 1917. As a regiment assembles to wage war deep in enemy territory, two soldiers are assigned to race against time and deliver a message that will stop 1,600 men from walking straight into a deadly trap."
          ]
         ],
         "hovertemplate": "genre=%{customdata[1]}<br>x=%{x}<br>y=%{y}<br>title=%{customdata[0]}<br>director=%{customdata[2]}<br>overview=%{customdata[3]}<extra></extra>",
         "legendgroup": "Drama, Thriller, War",
         "marker": {
          "color": "#B6E880",
          "symbol": "circle"
         },
         "mode": "markers",
         "name": "Drama, Thriller, War",
         "orientation": "v",
         "showlegend": true,
         "type": "scatter",
         "x": [
          0.12701400918041403
         ],
         "xaxis": "x",
         "y": [
          -0.005913341945336905
         ],
         "yaxis": "y"
        },
        {
         "customdata": [
          [
           "Gisaengchung",
           "Comedy, Drama, Thriller",
           "Bong Joon Ho",
           "Greed and class discrimination threaten the newly formed symbiotic relationship between the wealthy Park family and the destitute Kim clan."
          ]
         ],
         "hovertemplate": "genre=%{customdata[1]}<br>x=%{x}<br>y=%{y}<br>title=%{customdata[0]}<br>director=%{customdata[2]}<br>overview=%{customdata[3]}<extra></extra>",
         "legendgroup": "Comedy, Drama, Thriller",
         "marker": {
          "color": "#FF97FF",
          "symbol": "circle"
         },
         "mode": "markers",
         "name": "Comedy, Drama, Thriller",
         "orientation": "v",
         "showlegend": true,
         "type": "scatter",
         "x": [
          -0.08186552956580273
         ],
         "xaxis": "x",
         "y": [
          0.13807279287272792
         ],
         "yaxis": "y"
        },
        {
         "customdata": [
          [
           "Whiplash",
           "Drama, Music",
           "Damien Chazelle",
           "A promising young drummer enrolls at a cut-throat music conservatory where his dreams of greatness are mentored by an instructor who will stop at nothing to realize a student's potential."
          ]
         ],
         "hovertemplate": "genre=%{customdata[1]}<br>x=%{x}<br>y=%{y}<br>title=%{customdata[0]}<br>director=%{customdata[2]}<br>overview=%{customdata[3]}<extra></extra>",
         "legendgroup": "Drama, Music",
         "marker": {
          "color": "#FECB52",
          "symbol": "circle"
         },
         "mode": "markers",
         "name": "Drama, Music",
         "orientation": "v",
         "showlegend": true,
         "type": "scatter",
         "x": [
          -0.0658746948121091
         ],
         "xaxis": "x",
         "y": [
          -0.0003614937896223393
         ],
         "yaxis": "y"
        },
        {
         "customdata": [
          [
           "Psycho",
           "Horror, Mystery, Thriller",
           "Alfred Hitchcock",
           "A Phoenix secretary embezzles $40,000 from her employer's client, goes on the run, and checks into a remote motel run by a young man under the domination of his mother."
          ]
         ],
         "hovertemplate": "genre=%{customdata[1]}<br>x=%{x}<br>y=%{y}<br>title=%{customdata[0]}<br>director=%{customdata[2]}<br>overview=%{customdata[3]}<extra></extra>",
         "legendgroup": "Horror, Mystery, Thriller",
         "marker": {
          "color": "#636efa",
          "symbol": "circle"
         },
         "mode": "markers",
         "name": "Horror, Mystery, Thriller",
         "orientation": "v",
         "showlegend": true,
         "type": "scatter",
         "x": [
          -0.12673004913661293
         ],
         "xaxis": "x",
         "y": [
          -0.004733694958689666
         ],
         "yaxis": "y"
        },
        {
         "customdata": [
          [
           "Dr. Strangelove or: How I Learned to Stop Worrying and Love the Bomb",
           "Comedy",
           "Stanley Kubrick",
           "An insane general triggers a path to nuclear holocaust that a War Room full of politicians and generals frantically tries to stop."
          ]
         ],
         "hovertemplate": "genre=%{customdata[1]}<br>x=%{x}<br>y=%{y}<br>title=%{customdata[0]}<br>director=%{customdata[2]}<br>overview=%{customdata[3]}<extra></extra>",
         "legendgroup": "Comedy",
         "marker": {
          "color": "#EF553B",
          "symbol": "circle"
         },
         "mode": "markers",
         "name": "Comedy",
         "orientation": "v",
         "showlegend": true,
         "type": "scatter",
         "x": [
          0.05504975956049404
         ],
         "xaxis": "x",
         "y": [
          -0.03528464385420351
         ],
         "yaxis": "y"
        },
        {
         "customdata": [
          [
           "The Great Dictator",
           "Comedy, Drama, War",
           "Charles Chaplin",
           "Dictator Adenoid Hynkel tries to expand his empire while a poor Jewish barber tries to avoid persecution from Hynkel's regime."
          ]
         ],
         "hovertemplate": "genre=%{customdata[1]}<br>x=%{x}<br>y=%{y}<br>title=%{customdata[0]}<br>director=%{customdata[2]}<br>overview=%{customdata[3]}<extra></extra>",
         "legendgroup": "Comedy, Drama, War",
         "marker": {
          "color": "#00cc96",
          "symbol": "circle"
         },
         "mode": "markers",
         "name": "Comedy, Drama, War",
         "orientation": "v",
         "showlegend": true,
         "type": "scatter",
         "x": [
          -0.02415958213001631
         ],
         "xaxis": "x",
         "y": [
          0.017930751834013117
         ],
         "yaxis": "y"
        },
        {
         "customdata": [
          [
           "Incendies",
           "Drama, Mystery, War",
           "Denis Villeneuve",
           "Twins journey to the Middle East to discover their family history and fulfill their mother's last wishes."
          ],
          [
           "Apocalypse Now",
           "Drama, Mystery, War",
           "Francis Ford Coppola",
           "A U.S. Army officer serving in Vietnam is tasked with assassinating a renegade Special Forces Colonel who sees himself as a god."
          ]
         ],
         "hovertemplate": "genre=%{customdata[1]}<br>x=%{x}<br>y=%{y}<br>title=%{customdata[0]}<br>director=%{customdata[2]}<br>overview=%{customdata[3]}<extra></extra>",
         "legendgroup": "Drama, Mystery, War",
         "marker": {
          "color": "#ab63fa",
          "symbol": "circle"
         },
         "mode": "markers",
         "name": "Drama, Mystery, War",
         "orientation": "v",
         "showlegend": true,
         "type": "scatter",
         "x": [
          -0.026223139199191545,
          0.09345454321527641
         ],
         "xaxis": "x",
         "y": [
          0.13552361843043514,
          -0.09266936810560526
         ],
         "yaxis": "y"
        },
        {
         "customdata": [
          [
           "Eternal Sunshine of the Spotless Mind",
           "Drama, Romance, Sci-Fi",
           "Michel Gondry",
           "When their relationship turns sour, a couple undergoes a medical procedure to have each other erased from their memories."
          ]
         ],
         "hovertemplate": "genre=%{customdata[1]}<br>x=%{x}<br>y=%{y}<br>title=%{customdata[0]}<br>director=%{customdata[2]}<br>overview=%{customdata[3]}<extra></extra>",
         "legendgroup": "Drama, Romance, Sci-Fi",
         "marker": {
          "color": "#FFA15A",
          "symbol": "circle"
         },
         "mode": "markers",
         "name": "Drama, Romance, Sci-Fi",
         "orientation": "v",
         "showlegend": true,
         "type": "scatter",
         "x": [
          -0.07427459458835062
         ],
         "xaxis": "x",
         "y": [
          -0.038112923460031284
         ],
         "yaxis": "y"
        },
        {
         "customdata": [
          [
           "Terminator 2: Judgment Day",
           "Action, Sci-Fi",
           "James Cameron",
           "A cyborg, identical to the one who failed to kill Sarah Connor, must now protect her teenage son, John Connor, from a more advanced and powerful cyborg."
          ],
          [
           "The Matrix",
           "Action, Sci-Fi",
           "Lana Wachowski",
           "When a beautiful stranger leads computer hacker Neo to a forbidding underworld, he discovers the shocking truth--the life he knows is the elaborate deception of an evil cyber-intelligence."
          ]
         ],
         "hovertemplate": "genre=%{customdata[1]}<br>x=%{x}<br>y=%{y}<br>title=%{customdata[0]}<br>director=%{customdata[2]}<br>overview=%{customdata[3]}<extra></extra>",
         "legendgroup": "Action, Sci-Fi",
         "marker": {
          "color": "#19d3f3",
          "symbol": "circle"
         },
         "mode": "markers",
         "name": "Action, Sci-Fi",
         "orientation": "v",
         "showlegend": true,
         "type": "scatter",
         "x": [
          0.10701731704494903,
          0.04526318691164171
         ],
         "xaxis": "x",
         "y": [
          -0.0008917038747541592,
          -0.04475477120631025
         ],
         "yaxis": "y"
        },
        {
         "customdata": [
          [
           "Once Upon a Time in the West",
           "Western",
           "Sergio Leone",
           "A mysterious stranger with a harmonica joins forces with a notorious desperado to protect a beautiful widow from a ruthless assassin working for the railroad."
          ],
          [
           "Il buono, il brutto, il cattivo",
           "Western",
           "Sergio Leone",
           "A bounty hunting scam joins two men in an uneasy alliance against a third in a race to find a fortune in gold buried in a remote cemetery."
          ]
         ],
         "hovertemplate": "genre=%{customdata[1]}<br>x=%{x}<br>y=%{y}<br>title=%{customdata[0]}<br>director=%{customdata[2]}<br>overview=%{customdata[3]}<extra></extra>",
         "legendgroup": "Western",
         "marker": {
          "color": "#FF6692",
          "symbol": "circle"
         },
         "mode": "markers",
         "name": "Western",
         "orientation": "v",
         "showlegend": true,
         "type": "scatter",
         "x": [
          0.011709190437419465,
          0.013569349549602618
         ],
         "xaxis": "x",
         "y": [
          -0.04596229384357339,
          -0.019039203823372847
         ],
         "yaxis": "y"
        },
        {
         "customdata": [
          [
           "Casablanca",
           "Drama, Romance, War",
           "Michael Curtiz",
           "A cynical expatriate American cafe owner struggles to decide whether or not to help his former lover and her fugitive husband escape the Nazis in French Morocco."
          ]
         ],
         "hovertemplate": "genre=%{customdata[1]}<br>x=%{x}<br>y=%{y}<br>title=%{customdata[0]}<br>director=%{customdata[2]}<br>overview=%{customdata[3]}<extra></extra>",
         "legendgroup": "Drama, Romance, War",
         "marker": {
          "color": "#B6E880",
          "symbol": "circle"
         },
         "mode": "markers",
         "name": "Drama, Romance, War",
         "orientation": "v",
         "showlegend": true,
         "type": "scatter",
         "x": [
          -0.09387368304263267
         ],
         "xaxis": "x",
         "y": [
          -0.05690354249226389
         ],
         "yaxis": "y"
        },
        {
         "customdata": [
          [
           "The Intouchables",
           "Biography, Comedy, Drama",
           "Olivier Nakache",
           "After he becomes a quadriplegic from a paragliding accident, an aristocrat hires a young man from the projects to be his caregiver."
          ]
         ],
         "hovertemplate": "genre=%{customdata[1]}<br>x=%{x}<br>y=%{y}<br>title=%{customdata[0]}<br>director=%{customdata[2]}<br>overview=%{customdata[3]}<extra></extra>",
         "legendgroup": "Biography, Comedy, Drama",
         "marker": {
          "color": "#FF97FF",
          "symbol": "circle"
         },
         "mode": "markers",
         "name": "Biography, Comedy, Drama",
         "orientation": "v",
         "showlegend": true,
         "type": "scatter",
         "x": [
          -0.12375514327251111
         ],
         "xaxis": "x",
         "y": [
          0.02129807304844114
         ],
         "yaxis": "y"
        },
        {
         "customdata": [
          [
           "The Lion King",
           "Animation, Adventure, Drama",
           "Roger Allers",
           "Lion prince Simba and his father are targeted by his bitter uncle, who wants to ascend the throne himself."
          ]
         ],
         "hovertemplate": "genre=%{customdata[1]}<br>x=%{x}<br>y=%{y}<br>title=%{customdata[0]}<br>director=%{customdata[2]}<br>overview=%{customdata[3]}<extra></extra>",
         "legendgroup": "Animation, Adventure, Drama",
         "marker": {
          "color": "#FECB52",
          "symbol": "circle"
         },
         "mode": "markers",
         "name": "Animation, Adventure, Drama",
         "orientation": "v",
         "showlegend": true,
         "type": "scatter",
         "x": [
          0.06026380416398926
         ],
         "xaxis": "x",
         "y": [
          0.08858518316666032
         ],
         "yaxis": "y"
        },
        {
         "customdata": [
          [
           "Sunset Blvd.",
           "Drama, Film-Noir",
           "Billy Wilder",
           "A screenwriter develops a dangerous relationship with a faded film star determined to make a triumphant return."
          ]
         ],
         "hovertemplate": "genre=%{customdata[1]}<br>x=%{x}<br>y=%{y}<br>title=%{customdata[0]}<br>director=%{customdata[2]}<br>overview=%{customdata[3]}<extra></extra>",
         "legendgroup": "Drama, Film-Noir",
         "marker": {
          "color": "#636efa",
          "symbol": "circle"
         },
         "mode": "markers",
         "name": "Drama, Film-Noir",
         "orientation": "v",
         "showlegend": true,
         "type": "scatter",
         "x": [
          -0.09787075367890784
         ],
         "xaxis": "x",
         "y": [
          -0.11675502822615531
         ],
         "yaxis": "y"
        },
        {
         "customdata": [
          [
           "Andhadhun",
           "Crime, Drama, Music",
           "Sriram Raghavan",
           "A series of mysterious events change the life of a blind pianist, who must now report a crime that he should technically know nothing of."
          ]
         ],
         "hovertemplate": "genre=%{customdata[1]}<br>x=%{x}<br>y=%{y}<br>title=%{customdata[0]}<br>director=%{customdata[2]}<br>overview=%{customdata[3]}<extra></extra>",
         "legendgroup": "Crime, Drama, Music",
         "marker": {
          "color": "#EF553B",
          "symbol": "circle"
         },
         "mode": "markers",
         "name": "Crime, Drama, Music",
         "orientation": "v",
         "showlegend": true,
         "type": "scatter",
         "x": [
          -0.09991753038404082
         ],
         "xaxis": "x",
         "y": [
          0.02167796865730748
         ],
         "yaxis": "y"
        },
        {
         "customdata": [
          [
           "It's a Wonderful Life",
           "Drama, Family, Fantasy",
           "Frank Capra",
           "An angel is sent from Heaven to help a desperately frustrated businessman by showing him what life would have been like if he had never existed."
          ]
         ],
         "hovertemplate": "genre=%{customdata[1]}<br>x=%{x}<br>y=%{y}<br>title=%{customdata[0]}<br>director=%{customdata[2]}<br>overview=%{customdata[3]}<extra></extra>",
         "legendgroup": "Drama, Family, Fantasy",
         "marker": {
          "color": "#00cc96",
          "symbol": "circle"
         },
         "mode": "markers",
         "name": "Drama, Family, Fantasy",
         "orientation": "v",
         "showlegend": true,
         "type": "scatter",
         "x": [
          -0.02196211357748793
         ],
         "xaxis": "x",
         "y": [
          -0.0643213448602104
         ],
         "yaxis": "y"
        },
        {
         "customdata": [
          [
           "Back to the Future",
           "Adventure, Comedy, Sci-Fi",
           "Robert Zemeckis",
           "Marty McFly, a 17-year-old high school student, is accidentally sent thirty years into the past in a time-traveling DeLorean invented by his close friend, the eccentric scientist Doc Brown."
          ]
         ],
         "hovertemplate": "genre=%{customdata[1]}<br>x=%{x}<br>y=%{y}<br>title=%{customdata[0]}<br>director=%{customdata[2]}<br>overview=%{customdata[3]}<extra></extra>",
         "legendgroup": "Adventure, Comedy, Sci-Fi",
         "marker": {
          "color": "#ab63fa",
          "symbol": "circle"
         },
         "mode": "markers",
         "name": "Adventure, Comedy, Sci-Fi",
         "orientation": "v",
         "showlegend": true,
         "type": "scatter",
         "x": [
          0.053200441118096756
         ],
         "xaxis": "x",
         "y": [
          -0.04798444660830952
         ],
         "yaxis": "y"
        },
        {
         "customdata": [
          [
           "The Shining",
           "Drama, Horror",
           "Stanley Kubrick",
           "A family heads to an isolated hotel for the winter where a sinister presence influences the father into violence, while his psychic son sees horrific forebodings from both past and future."
          ]
         ],
         "hovertemplate": "genre=%{customdata[1]}<br>x=%{x}<br>y=%{y}<br>title=%{customdata[0]}<br>director=%{customdata[2]}<br>overview=%{customdata[3]}<extra></extra>",
         "legendgroup": "Drama, Horror",
         "marker": {
          "color": "#FFA15A",
          "symbol": "circle"
         },
         "mode": "markers",
         "name": "Drama, Horror",
         "orientation": "v",
         "showlegend": true,
         "type": "scatter",
         "x": [
          -0.06158970472069962
         ],
         "xaxis": "x",
         "y": [
          -0.011374383337772895
         ],
         "yaxis": "y"
        }
       ],
       "layout": {
        "height": 600,
        "legend": {
         "title": {
          "text": "genre"
         },
         "tracegroupgap": 0
        },
        "margin": {
         "t": 60
        },
        "template": {
         "data": {
          "bar": [
           {
            "error_x": {
             "color": "#2a3f5f"
            },
            "error_y": {
             "color": "#2a3f5f"
            },
            "marker": {
             "line": {
              "color": "#E5ECF6",
              "width": 0.5
             },
             "pattern": {
              "fillmode": "overlay",
              "size": 10,
              "solidity": 0.2
             }
            },
            "type": "bar"
           }
          ],
          "barpolar": [
           {
            "marker": {
             "line": {
              "color": "#E5ECF6",
              "width": 0.5
             },
             "pattern": {
              "fillmode": "overlay",
              "size": 10,
              "solidity": 0.2
             }
            },
            "type": "barpolar"
           }
          ],
          "carpet": [
           {
            "aaxis": {
             "endlinecolor": "#2a3f5f",
             "gridcolor": "white",
             "linecolor": "white",
             "minorgridcolor": "white",
             "startlinecolor": "#2a3f5f"
            },
            "baxis": {
             "endlinecolor": "#2a3f5f",
             "gridcolor": "white",
             "linecolor": "white",
             "minorgridcolor": "white",
             "startlinecolor": "#2a3f5f"
            },
            "type": "carpet"
           }
          ],
          "choropleth": [
           {
            "colorbar": {
             "outlinewidth": 0,
             "ticks": ""
            },
            "type": "choropleth"
           }
          ],
          "contour": [
           {
            "colorbar": {
             "outlinewidth": 0,
             "ticks": ""
            },
            "colorscale": [
             [
              0,
              "#0d0887"
             ],
             [
              0.1111111111111111,
              "#46039f"
             ],
             [
              0.2222222222222222,
              "#7201a8"
             ],
             [
              0.3333333333333333,
              "#9c179e"
             ],
             [
              0.4444444444444444,
              "#bd3786"
             ],
             [
              0.5555555555555556,
              "#d8576b"
             ],
             [
              0.6666666666666666,
              "#ed7953"
             ],
             [
              0.7777777777777778,
              "#fb9f3a"
             ],
             [
              0.8888888888888888,
              "#fdca26"
             ],
             [
              1,
              "#f0f921"
             ]
            ],
            "type": "contour"
           }
          ],
          "contourcarpet": [
           {
            "colorbar": {
             "outlinewidth": 0,
             "ticks": ""
            },
            "type": "contourcarpet"
           }
          ],
          "heatmap": [
           {
            "colorbar": {
             "outlinewidth": 0,
             "ticks": ""
            },
            "colorscale": [
             [
              0,
              "#0d0887"
             ],
             [
              0.1111111111111111,
              "#46039f"
             ],
             [
              0.2222222222222222,
              "#7201a8"
             ],
             [
              0.3333333333333333,
              "#9c179e"
             ],
             [
              0.4444444444444444,
              "#bd3786"
             ],
             [
              0.5555555555555556,
              "#d8576b"
             ],
             [
              0.6666666666666666,
              "#ed7953"
             ],
             [
              0.7777777777777778,
              "#fb9f3a"
             ],
             [
              0.8888888888888888,
              "#fdca26"
             ],
             [
              1,
              "#f0f921"
             ]
            ],
            "type": "heatmap"
           }
          ],
          "heatmapgl": [
           {
            "colorbar": {
             "outlinewidth": 0,
             "ticks": ""
            },
            "colorscale": [
             [
              0,
              "#0d0887"
             ],
             [
              0.1111111111111111,
              "#46039f"
             ],
             [
              0.2222222222222222,
              "#7201a8"
             ],
             [
              0.3333333333333333,
              "#9c179e"
             ],
             [
              0.4444444444444444,
              "#bd3786"
             ],
             [
              0.5555555555555556,
              "#d8576b"
             ],
             [
              0.6666666666666666,
              "#ed7953"
             ],
             [
              0.7777777777777778,
              "#fb9f3a"
             ],
             [
              0.8888888888888888,
              "#fdca26"
             ],
             [
              1,
              "#f0f921"
             ]
            ],
            "type": "heatmapgl"
           }
          ],
          "histogram": [
           {
            "marker": {
             "pattern": {
              "fillmode": "overlay",
              "size": 10,
              "solidity": 0.2
             }
            },
            "type": "histogram"
           }
          ],
          "histogram2d": [
           {
            "colorbar": {
             "outlinewidth": 0,
             "ticks": ""
            },
            "colorscale": [
             [
              0,
              "#0d0887"
             ],
             [
              0.1111111111111111,
              "#46039f"
             ],
             [
              0.2222222222222222,
              "#7201a8"
             ],
             [
              0.3333333333333333,
              "#9c179e"
             ],
             [
              0.4444444444444444,
              "#bd3786"
             ],
             [
              0.5555555555555556,
              "#d8576b"
             ],
             [
              0.6666666666666666,
              "#ed7953"
             ],
             [
              0.7777777777777778,
              "#fb9f3a"
             ],
             [
              0.8888888888888888,
              "#fdca26"
             ],
             [
              1,
              "#f0f921"
             ]
            ],
            "type": "histogram2d"
           }
          ],
          "histogram2dcontour": [
           {
            "colorbar": {
             "outlinewidth": 0,
             "ticks": ""
            },
            "colorscale": [
             [
              0,
              "#0d0887"
             ],
             [
              0.1111111111111111,
              "#46039f"
             ],
             [
              0.2222222222222222,
              "#7201a8"
             ],
             [
              0.3333333333333333,
              "#9c179e"
             ],
             [
              0.4444444444444444,
              "#bd3786"
             ],
             [
              0.5555555555555556,
              "#d8576b"
             ],
             [
              0.6666666666666666,
              "#ed7953"
             ],
             [
              0.7777777777777778,
              "#fb9f3a"
             ],
             [
              0.8888888888888888,
              "#fdca26"
             ],
             [
              1,
              "#f0f921"
             ]
            ],
            "type": "histogram2dcontour"
           }
          ],
          "mesh3d": [
           {
            "colorbar": {
             "outlinewidth": 0,
             "ticks": ""
            },
            "type": "mesh3d"
           }
          ],
          "parcoords": [
           {
            "line": {
             "colorbar": {
              "outlinewidth": 0,
              "ticks": ""
             }
            },
            "type": "parcoords"
           }
          ],
          "pie": [
           {
            "automargin": true,
            "type": "pie"
           }
          ],
          "scatter": [
           {
            "fillpattern": {
             "fillmode": "overlay",
             "size": 10,
             "solidity": 0.2
            },
            "type": "scatter"
           }
          ],
          "scatter3d": [
           {
            "line": {
             "colorbar": {
              "outlinewidth": 0,
              "ticks": ""
             }
            },
            "marker": {
             "colorbar": {
              "outlinewidth": 0,
              "ticks": ""
             }
            },
            "type": "scatter3d"
           }
          ],
          "scattercarpet": [
           {
            "marker": {
             "colorbar": {
              "outlinewidth": 0,
              "ticks": ""
             }
            },
            "type": "scattercarpet"
           }
          ],
          "scattergeo": [
           {
            "marker": {
             "colorbar": {
              "outlinewidth": 0,
              "ticks": ""
             }
            },
            "type": "scattergeo"
           }
          ],
          "scattergl": [
           {
            "marker": {
             "colorbar": {
              "outlinewidth": 0,
              "ticks": ""
             }
            },
            "type": "scattergl"
           }
          ],
          "scattermapbox": [
           {
            "marker": {
             "colorbar": {
              "outlinewidth": 0,
              "ticks": ""
             }
            },
            "type": "scattermapbox"
           }
          ],
          "scatterpolar": [
           {
            "marker": {
             "colorbar": {
              "outlinewidth": 0,
              "ticks": ""
             }
            },
            "type": "scatterpolar"
           }
          ],
          "scatterpolargl": [
           {
            "marker": {
             "colorbar": {
              "outlinewidth": 0,
              "ticks": ""
             }
            },
            "type": "scatterpolargl"
           }
          ],
          "scatterternary": [
           {
            "marker": {
             "colorbar": {
              "outlinewidth": 0,
              "ticks": ""
             }
            },
            "type": "scatterternary"
           }
          ],
          "surface": [
           {
            "colorbar": {
             "outlinewidth": 0,
             "ticks": ""
            },
            "colorscale": [
             [
              0,
              "#0d0887"
             ],
             [
              0.1111111111111111,
              "#46039f"
             ],
             [
              0.2222222222222222,
              "#7201a8"
             ],
             [
              0.3333333333333333,
              "#9c179e"
             ],
             [
              0.4444444444444444,
              "#bd3786"
             ],
             [
              0.5555555555555556,
              "#d8576b"
             ],
             [
              0.6666666666666666,
              "#ed7953"
             ],
             [
              0.7777777777777778,
              "#fb9f3a"
             ],
             [
              0.8888888888888888,
              "#fdca26"
             ],
             [
              1,
              "#f0f921"
             ]
            ],
            "type": "surface"
           }
          ],
          "table": [
           {
            "cells": {
             "fill": {
              "color": "#EBF0F8"
             },
             "line": {
              "color": "white"
             }
            },
            "header": {
             "fill": {
              "color": "#C8D4E3"
             },
             "line": {
              "color": "white"
             }
            },
            "type": "table"
           }
          ]
         },
         "layout": {
          "annotationdefaults": {
           "arrowcolor": "#2a3f5f",
           "arrowhead": 0,
           "arrowwidth": 1
          },
          "autotypenumbers": "strict",
          "coloraxis": {
           "colorbar": {
            "outlinewidth": 0,
            "ticks": ""
           }
          },
          "colorscale": {
           "diverging": [
            [
             0,
             "#8e0152"
            ],
            [
             0.1,
             "#c51b7d"
            ],
            [
             0.2,
             "#de77ae"
            ],
            [
             0.3,
             "#f1b6da"
            ],
            [
             0.4,
             "#fde0ef"
            ],
            [
             0.5,
             "#f7f7f7"
            ],
            [
             0.6,
             "#e6f5d0"
            ],
            [
             0.7,
             "#b8e186"
            ],
            [
             0.8,
             "#7fbc41"
            ],
            [
             0.9,
             "#4d9221"
            ],
            [
             1,
             "#276419"
            ]
           ],
           "sequential": [
            [
             0,
             "#0d0887"
            ],
            [
             0.1111111111111111,
             "#46039f"
            ],
            [
             0.2222222222222222,
             "#7201a8"
            ],
            [
             0.3333333333333333,
             "#9c179e"
            ],
            [
             0.4444444444444444,
             "#bd3786"
            ],
            [
             0.5555555555555556,
             "#d8576b"
            ],
            [
             0.6666666666666666,
             "#ed7953"
            ],
            [
             0.7777777777777778,
             "#fb9f3a"
            ],
            [
             0.8888888888888888,
             "#fdca26"
            ],
            [
             1,
             "#f0f921"
            ]
           ],
           "sequentialminus": [
            [
             0,
             "#0d0887"
            ],
            [
             0.1111111111111111,
             "#46039f"
            ],
            [
             0.2222222222222222,
             "#7201a8"
            ],
            [
             0.3333333333333333,
             "#9c179e"
            ],
            [
             0.4444444444444444,
             "#bd3786"
            ],
            [
             0.5555555555555556,
             "#d8576b"
            ],
            [
             0.6666666666666666,
             "#ed7953"
            ],
            [
             0.7777777777777778,
             "#fb9f3a"
            ],
            [
             0.8888888888888888,
             "#fdca26"
            ],
            [
             1,
             "#f0f921"
            ]
           ]
          },
          "colorway": [
           "#636efa",
           "#EF553B",
           "#00cc96",
           "#ab63fa",
           "#FFA15A",
           "#19d3f3",
           "#FF6692",
           "#B6E880",
           "#FF97FF",
           "#FECB52"
          ],
          "font": {
           "color": "#2a3f5f"
          },
          "geo": {
           "bgcolor": "white",
           "lakecolor": "white",
           "landcolor": "#E5ECF6",
           "showlakes": true,
           "showland": true,
           "subunitcolor": "white"
          },
          "hoverlabel": {
           "align": "left"
          },
          "hovermode": "closest",
          "mapbox": {
           "style": "light"
          },
          "paper_bgcolor": "white",
          "plot_bgcolor": "#E5ECF6",
          "polar": {
           "angularaxis": {
            "gridcolor": "white",
            "linecolor": "white",
            "ticks": ""
           },
           "bgcolor": "#E5ECF6",
           "radialaxis": {
            "gridcolor": "white",
            "linecolor": "white",
            "ticks": ""
           }
          },
          "scene": {
           "xaxis": {
            "backgroundcolor": "#E5ECF6",
            "gridcolor": "white",
            "gridwidth": 2,
            "linecolor": "white",
            "showbackground": true,
            "ticks": "",
            "zerolinecolor": "white"
           },
           "yaxis": {
            "backgroundcolor": "#E5ECF6",
            "gridcolor": "white",
            "gridwidth": 2,
            "linecolor": "white",
            "showbackground": true,
            "ticks": "",
            "zerolinecolor": "white"
           },
           "zaxis": {
            "backgroundcolor": "#E5ECF6",
            "gridcolor": "white",
            "gridwidth": 2,
            "linecolor": "white",
            "showbackground": true,
            "ticks": "",
            "zerolinecolor": "white"
           }
          },
          "shapedefaults": {
           "line": {
            "color": "#2a3f5f"
           }
          },
          "ternary": {
           "aaxis": {
            "gridcolor": "white",
            "linecolor": "white",
            "ticks": ""
           },
           "baxis": {
            "gridcolor": "white",
            "linecolor": "white",
            "ticks": ""
           },
           "bgcolor": "#E5ECF6",
           "caxis": {
            "gridcolor": "white",
            "linecolor": "white",
            "ticks": ""
           }
          },
          "title": {
           "x": 0.05
          },
          "xaxis": {
           "automargin": true,
           "gridcolor": "white",
           "linecolor": "white",
           "ticks": "",
           "title": {
            "standoff": 15
           },
           "zerolinecolor": "white",
           "zerolinewidth": 2
          },
          "yaxis": {
           "automargin": true,
           "gridcolor": "white",
           "linecolor": "white",
           "ticks": "",
           "title": {
            "standoff": 15
           },
           "zerolinecolor": "white",
           "zerolinewidth": 2
          }
         }
        },
        "title": {
         "text": "Interactive Embeddings Plot"
        },
        "width": 700,
        "xaxis": {
         "anchor": "y",
         "domain": [
          0,
          1
         ],
         "scaleanchor": "y",
         "scaleratio": 1,
         "title": {
          "text": "PCA 1"
         }
        },
        "yaxis": {
         "anchor": "x",
         "domain": [
          0,
          1
         ],
         "scaleanchor": "x",
         "scaleratio": 1,
         "title": {
          "text": "PCA 2"
         }
        }
       }
      }
     },
     "metadata": {},
     "output_type": "display_data"
    }
   ],
   "source": [
    "# Assuming df_data is your dataframe with 'embedding', 'title', 'genre', 'director', and 'overview' columns\n",
    "\n",
    "# Extract embeddings and apply PCA\n",
    "embeddings = pd.DataFrame(df_data['embedding'].tolist())\n",
    "reduced_embeddings = PCA(n_components=2).fit_transform(embeddings)\n",
    "\n",
    "# Add PCA results to the dataframe\n",
    "df_data['x'] = reduced_embeddings[:, 0]\n",
    "df_data['y'] = reduced_embeddings[:, 1]\n",
    "\n",
    "# Create an interactive scatter plot using plotly\n",
    "fig = px.scatter(df_data, x='x', y='y', hover_data=['title', 'genre', 'director', 'overview'], color='genre')\n",
    "\n",
    "# Set titles and labels\n",
    "fig.update_layout(title='Interactive Embeddings Plot', \n",
    "    xaxis_title='PCA 1', \n",
    "    yaxis_title='PCA 2', \n",
    "    xaxis=dict(scaleanchor=\"y\", scaleratio=1),  # Ensure 1:1 aspect ratio\n",
    "    yaxis=dict(scaleanchor=\"x\", scaleratio=1),\n",
    "    width=700,   # set the width of the plot in pixels\n",
    "    height=600\n",
    ")\n",
    "\n",
    "# Show the plot\n",
    "fig.show()"
   ]
  },
  {
   "cell_type": "markdown",
   "metadata": {},
   "source": [
    "# Step #6 Serarch using Vector Search"
   ]
  },
  {
   "cell_type": "code",
   "execution_count": 59,
   "metadata": {},
   "outputs": [
    {
     "name": "stderr",
     "output_type": "stream",
     "text": [
      "top_k is not a known attribute of class <class 'azure.search.documents._generated.models._models_py3.Vector'> and will be ignored\n"
     ]
    },
    {
     "name": "stdout",
     "output_type": "stream",
     "text": [
      "<iterator object azure.core.paging.ItemPaged at 0x1341a2790d0>\n",
      "title: Avengers: Infinity War\n",
      "id: 60\n",
      "Score: 0.8388787\n",
      "genre: Action, Adventure, Sci-Fi\n",
      "overview: The Avengers and their allies must be willing to sacrifice all in an attempt to defeat the powerful Thanos before his blitz of devastation and ruin puts an end to the universe.\n",
      "title: The Dark Knight\n",
      "id: 2\n",
      "Score: 0.8345863\n",
      "genre: Action, Crime, Drama\n",
      "overview: When the menace known as the Joker wreaks havoc and chaos on the people of Gotham, Batman must accept one of the greatest psychological and physical tests of his ability to fight injustice.\n",
      "title: Spider-Man: Into the Spider-Verse\n",
      "id: 58\n",
      "Score: 0.83421373\n",
      "genre: Animation, Action, Adventure\n",
      "overview: Teen Miles Morales becomes the Spider-Man of his universe, and must join with five spider-powered individuals from other dimensions to stop a threat for all realities.\n"
     ]
    }
   ],
   "source": [
    "# simple vector search\n",
    "def single_vector_search(query):\n",
    "\n",
    "    search_client = SearchClient(service_endpoint, index_name, AzureKeyCredential(key))\n",
    "    results = search_client.search(\n",
    "        search_text=None,\n",
    "        vector=get_embeddings(query),\n",
    "        top=3,  \n",
    "        vector_fields=\"descriptionVector\",\n",
    "        select=[\"id\", \"title\", \"overview\", \"genre\"],\n",
    "    )\n",
    "    return results\n",
    "        \n",
    "query = \"super hero\"\n",
    "results = single_vector_search(query)\n",
    "\n",
    "print(results)\n",
    "for result in results:  \n",
    "    print(f\"title: {result['title']}\")  \n",
    "    print(f\"id: {result['id']}\")\n",
    "    print(f\"Score: {result['@search.score']}\")  \n",
    "    print(f\"genre: {result['genre']}\") \n",
    "    print(f\"overview: {result['overview']}\") "
   ]
  },
  {
   "cell_type": "code",
   "execution_count": 65,
   "metadata": {},
   "outputs": [
    {
     "name": "stderr",
     "output_type": "stream",
     "text": [
      "top_k is not a known attribute of class <class 'azure.search.documents._generated.models._models_py3.Vector'> and will be ignored\n"
     ]
    },
    {
     "name": "stdout",
     "output_type": "stream",
     "text": [
      "<iterator object azure.core.paging.ItemPaged at 0x134739c71c0>\n",
      "title: Soorarai Pottru\n",
      "id: 20\n",
      "Score: 0.81495625\n",
      "genre: Drama\n",
      "overview: Nedumaaran Rajangam \"Maara\" sets out to make the common man fly and in the process takes on the world's most capital intensive industry and several enemies who stand in his way.\n",
      "title: American History X\n",
      "id: 40\n",
      "Score: 0.8110039\n",
      "genre: Drama\n",
      "overview: A former neo-nazi skinhead tries to prevent his younger brother from going down the same wrong path that he did.\n",
      "title: Jagten\n",
      "id: 88\n",
      "Score: 0.8106593\n",
      "genre: Drama\n",
      "overview: A teacher lives a lonely life, all the while struggling over his son's custody. His life slowly gets better as he finds love and receives good news from his son, but his new luck is about to be brutally shattered by an innocent little lie.\n"
     ]
    }
   ],
   "source": [
    "# simple vector search with filter\n",
    "def single_vector_search_with_filter(query):\n",
    "\n",
    "    search_client = SearchClient(service_endpoint, index_name, AzureKeyCredential(key))\n",
    "    results = search_client.search(\n",
    "        search_text=None,\n",
    "        vector=get_embeddings(query),\n",
    "        top=3,  \n",
    "        vector_fields=\"descriptionVector\",\n",
    "        filter=\"genre eq 'Drama'\",\n",
    "        select=[\"id\", \"title\", \"overview\", \"genre\"],\n",
    "    )\n",
    "    return results\n",
    "        \n",
    "query = \"animal hero\"\n",
    "results = single_vector_search_with_filter(query)\n",
    "\n",
    "print(results)\n",
    "for result in results:  \n",
    "    print(f\"title: {result['title']}\")  \n",
    "    print(f\"id: {result['id']}\")\n",
    "    print(f\"Score: {result['@search.score']}\")  \n",
    "    print(f\"genre: {result['genre']}\") \n",
    "    print(f\"overview: {result['overview']}\") "
   ]
  },
  {
   "cell_type": "markdown",
   "metadata": {},
   "source": [
    "# Step #7 Search using Hybrid Search"
   ]
  },
  {
   "cell_type": "code",
   "execution_count": 68,
   "metadata": {},
   "outputs": [
    {
     "name": "stderr",
     "output_type": "stream",
     "text": [
      "top_k is not a known attribute of class <class 'azure.search.documents._generated.models._models_py3.Vector'> and will be ignored\n"
     ]
    },
    {
     "name": "stdout",
     "output_type": "stream",
     "text": [
      "<iterator object azure.core.paging.ItemPaged at 0x1341a21b880>\n",
      "title: City Lights\n",
      "id: 52\n",
      "Score: 0.03333333507180214\n",
      "genre: Comedy, Drama, Romance\n",
      "overview: With the aid of a wealthy erratic tippler, a dewy-eyed tramp who has fallen in love with a sightless flower girl accumulates money to be able to help her medically.\n",
      "title: Psycho\n",
      "id: 49\n",
      "Score: 0.016393441706895828\n",
      "genre: Horror, Mystery, Thriller\n",
      "overview: A Phoenix secretary embezzles $40,000 from her employer's client, goes on the run, and checks into a remote motel run by a young man under the domination of his mother.\n",
      "title: Il buono, il brutto, il cattivo\n",
      "id: 12\n",
      "Score: 0.016129031777381897\n",
      "genre: Western\n",
      "overview: A bounty hunting scam joins two men in an uneasy alliance against a third in a race to find a fortune in gold buried in a remote cemetery.\n"
     ]
    }
   ],
   "source": [
    "# simple hybrid search without filter\n",
    "def single_vector_search_with_filter(query):\n",
    "    search_client = SearchClient(service_endpoint, index_name, AzureKeyCredential(key))\n",
    "\n",
    "    results = search_client.search(\n",
    "        search_text=query,\n",
    "        vector=get_embeddings(query),\n",
    "        top=3,  \n",
    "        vector_fields=\"descriptionVector\",\n",
    "        #filter=\"genre eq 'Drama'\",\n",
    "        select=[\"id\", \"title\", \"overview\", \"genre\"],\n",
    "    )\n",
    "    return results\n",
    "\n",
    "query = \"money money money\"\n",
    "results = single_vector_search_with_filter(query)\n",
    "\n",
    "print(results)\n",
    "for result in results:  \n",
    "    print(f\"title: {result['title']}\")  \n",
    "    print(f\"id: {result['id']}\")\n",
    "    print(f\"Score: {result['@search.score']}\")  \n",
    "    print(f\"genre: {result['genre']}\") \n",
    "    print(f\"overview: {result['overview']}\") "
   ]
  }
 ],
 "metadata": {
  "kernelspec": {
   "display_name": "base",
   "language": "python",
   "name": "python3"
  },
  "language_info": {
   "codemirror_mode": {
    "name": "ipython",
    "version": 3
   },
   "file_extension": ".py",
   "mimetype": "text/x-python",
   "name": "python",
   "nbconvert_exporter": "python",
   "pygments_lexer": "ipython3",
   "version": "3.9.13"
  },
  "orig_nbformat": 4
 },
 "nbformat": 4,
 "nbformat_minor": 2
}
